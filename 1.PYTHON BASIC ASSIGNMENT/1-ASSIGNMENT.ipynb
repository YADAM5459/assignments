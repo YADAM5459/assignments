{
 "cells": [
  {
   "cell_type": "markdown",
   "id": "c20c3d50",
   "metadata": {},
   "source": [
    "# ASSIGNMENT -1"
   ]
  },
  {
   "cell_type": "markdown",
   "id": "052b150b",
   "metadata": {},
   "source": [
    "ANSWER-1\n",
    "*       =expression\n",
    "'hello' =value\n",
    "-87.8   =value\n",
    "-       = expression\n",
    "/       = expression\n",
    "+       = expression\n",
    "6       = value"
   ]
  },
  {
   "cell_type": "markdown",
   "id": "33db116c",
   "metadata": {},
   "source": [
    "ANSWER-2\n",
    "string is combitaion of letters,inetgers and words where as variable is also same but it can be changed when ever we want.\n",
    "\n"
   ]
  },
  {
   "cell_type": "markdown",
   "id": "fc2b1706",
   "metadata": {},
   "source": [
    "ANSWER -3\n",
    "DATA TYPES -list,tuples,dict,bollen,sets"
   ]
  },
  {
   "cell_type": "markdown",
   "id": "7909fc8c",
   "metadata": {},
   "source": [
    "ANSWER -4\n",
    "Expressions are made of mathematical opreators and operands. they form equation and get the results\n",
    "ex\n",
    "2+5\n",
    "output:7"
   ]
  },
  {
   "cell_type": "markdown",
   "id": "31872706",
   "metadata": {},
   "source": [
    "ANSWER -5\n",
    "A statement is an instruction that the Python interpreter can execute.\n",
    "print 1\n",
    "x = 2\n",
    "print x\n",
    " output\n",
    "1\n",
    "2\n",
    "where as expression is just eqution produces result\n",
    "ex\n",
    "2+5\n",
    "output:7\n"
   ]
  },
  {
   "cell_type": "code",
   "execution_count": 2,
   "id": "6cc8dd05",
   "metadata": {},
   "outputs": [
    {
     "data": {
      "text/plain": [
       "23"
      ]
     },
     "execution_count": 2,
     "metadata": {},
     "output_type": "execute_result"
    }
   ],
   "source": [
    "#answer -6\n",
    "bacon = 22\n",
    "bacon + 1"
   ]
  },
  {
   "cell_type": "code",
   "execution_count": 7,
   "id": "c4befc73",
   "metadata": {},
   "outputs": [
    {
     "data": {
      "text/plain": [
       "'spamspamspam'"
      ]
     },
     "execution_count": 7,
     "metadata": {},
     "output_type": "execute_result"
    }
   ],
   "source": [
    "#answer-7\n",
    "\"spam\"+'spamspam'"
   ]
  },
  {
   "cell_type": "code",
   "execution_count": 8,
   "id": "b3d1ca18",
   "metadata": {},
   "outputs": [
    {
     "data": {
      "text/plain": [
       "'spamspamspam'"
      ]
     },
     "execution_count": 8,
     "metadata": {},
     "output_type": "execute_result"
    }
   ],
   "source": [
    "'spam'*3"
   ]
  },
  {
   "cell_type": "markdown",
   "id": "10958c98",
   "metadata": {},
   "source": [
    "answer-8\n",
    "Variable names cannot begin with a number.\n",
    "ex 9 =\"god\"\n",
    "   eggs=9\n"
   ]
  },
  {
   "cell_type": "markdown",
   "id": "5bfc387f",
   "metadata": {},
   "source": [
    "answer-9\n",
    "str(), int(), float()"
   ]
  },
  {
   "cell_type": "markdown",
   "id": "a5749f5e",
   "metadata": {},
   "source": [
    "answer -10\n",
    "integers cant be concatenate\n",
    "sol-change 99 to \"99\""
   ]
  }
 ],
 "metadata": {
  "kernelspec": {
   "display_name": "Python 3 (ipykernel)",
   "language": "python",
   "name": "python3"
  },
  "language_info": {
   "codemirror_mode": {
    "name": "ipython",
    "version": 3
   },
   "file_extension": ".py",
   "mimetype": "text/x-python",
   "name": "python",
   "nbconvert_exporter": "python",
   "pygments_lexer": "ipython3",
   "version": "3.9.7"
  }
 },
 "nbformat": 4,
 "nbformat_minor": 5
}
