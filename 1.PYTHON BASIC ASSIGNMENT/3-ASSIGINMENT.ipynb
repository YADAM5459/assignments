{
 "cells": [
  {
   "cell_type": "markdown",
   "id": "886d9055",
   "metadata": {},
   "source": [
    "# ASSIGINMENT-3"
   ]
  },
  {
   "cell_type": "markdown",
   "id": "1485be59",
   "metadata": {},
   "source": [
    "ANSWER-1\n",
    "\n",
    "Functions reduce the need for duplicate code. This makes programs shorter, easier to read, and easier to update. A function calls a function's and its code and returns a value.\n",
    "\n",
    "answer-2\n",
    "\n",
    "when we call with its name thenonly function comes and does its job.\n",
    "\n",
    "answer-3\n",
    "\n",
    "def\n",
    "\n",
    "answer- 4\n",
    "\n",
    "A function is just set of code where as funtion call is calling a function and assigning some values.\n",
    "\n",
    "\n",
    "answer-5\n",
    "\n",
    "one global scope\n",
    "\n",
    "one local scope\n",
    "\n",
    "answer-6\n",
    "\n",
    "When the execution of the function terminates, the local variables are destroyed."
   ]
  },
  {
   "cell_type": "code",
   "execution_count": null,
   "id": "3a153652",
   "metadata": {},
   "outputs": [],
   "source": [
    "#answer-7\n",
    "#when we call a function execpt a result that can be achived by using return function\n",
    "#yes we can return through expressions\n",
    "def test(a,b):\n",
    "    return a*b"
   ]
  },
  {
   "cell_type": "code",
   "execution_count": 4,
   "id": "a6f3df70",
   "metadata": {},
   "outputs": [
    {
     "data": {
      "text/plain": [
       "40"
      ]
     },
     "execution_count": 4,
     "metadata": {},
     "output_type": "execute_result"
    }
   ],
   "source": [
    "test(5,8)"
   ]
  },
  {
   "cell_type": "markdown",
   "id": "fdd31145",
   "metadata": {},
   "source": [
    "answer-8\n",
    "if a function dont have return it does not return."
   ]
  },
  {
   "cell_type": "markdown",
   "id": "d14a90ca",
   "metadata": {},
   "source": [
    "answer-9\n",
    "use global keyword"
   ]
  },
  {
   "cell_type": "code",
   "execution_count": 6,
   "id": "8fa13a6d",
   "metadata": {},
   "outputs": [
    {
     "data": {
      "text/plain": [
       "NoneType"
      ]
     },
     "execution_count": 6,
     "metadata": {},
     "output_type": "execute_result"
    }
   ],
   "source": [
    "#answer-10\n",
    "#none is nonetype i.e it has no value\n",
    "type(None)"
   ]
  },
  {
   "cell_type": "markdown",
   "id": "c919f47b",
   "metadata": {},
   "source": [
    "answer-11\n",
    "\n",
    "answer 12\n",
    "\n",
    "spam.bacon().\n",
    "\n",
    "answer-13\n",
    "\n",
    "use try and except\n",
    "\n",
    "answer-14\n",
    "\n",
    "try evalutes the code if it is good it will excute or exceptblock will exceute"
   ]
  },
  {
   "cell_type": "code",
   "execution_count": null,
   "id": "b1856d4f",
   "metadata": {},
   "outputs": [],
   "source": []
  }
 ],
 "metadata": {
  "kernelspec": {
   "display_name": "Python 3 (ipykernel)",
   "language": "python",
   "name": "python3"
  },
  "language_info": {
   "codemirror_mode": {
    "name": "ipython",
    "version": 3
   },
   "file_extension": ".py",
   "mimetype": "text/x-python",
   "name": "python",
   "nbconvert_exporter": "python",
   "pygments_lexer": "ipython3",
   "version": "3.9.7"
  }
 },
 "nbformat": 4,
 "nbformat_minor": 5
}
