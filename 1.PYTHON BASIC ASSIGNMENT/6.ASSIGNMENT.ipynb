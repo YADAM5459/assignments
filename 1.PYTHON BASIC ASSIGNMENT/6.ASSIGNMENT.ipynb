{
 "cells": [
  {
   "cell_type": "markdown",
   "id": "5c093f89",
   "metadata": {},
   "source": [
    "# ASSIGNMENT-6\n",
    "\n",
    "ANSWER-1\n",
    "\n",
    "ecapse characters are combination of symbols and word which we are not able to see in output\n",
    "\n",
    "answer--2\n",
    "\n",
    " \\n= newline\n",
    " \n",
    " \\t=tab"
   ]
  },
  {
   "cell_type": "code",
   "execution_count": 3,
   "id": "d6f79232",
   "metadata": {},
   "outputs": [
    {
     "name": "stdout",
     "output_type": "stream",
     "text": [
      "oh my god \\python\n"
     ]
    }
   ],
   "source": [
    "#answer-3\n",
    "print(\"oh my god \\\\python\")"
   ]
  },
  {
   "cell_type": "markdown",
   "id": "b58a4a93",
   "metadata": {},
   "source": [
    "answer-4\n",
    "\n",
    "we use double quotes which no problem occurs"
   ]
  },
  {
   "cell_type": "code",
   "execution_count": 4,
   "id": "3a5b4ddb",
   "metadata": {},
   "outputs": [
    {
     "name": "stdout",
     "output_type": "stream",
     "text": [
      "sun ries in the east\n",
      "sun sets\n"
     ]
    }
   ],
   "source": [
    "#answer-5\n",
    "#by using print for each statement\n",
    "print(\"sun ries in the east\")\n",
    "print(\"sun sets\")"
   ]
  },
  {
   "cell_type": "markdown",
   "id": "221a8a92",
   "metadata": {},
   "source": [
    "answer-6\n",
    "'hello, world'[1]='e'\n",
    "'hello, world'[0:5]='Hello'\n",
    "'hello, world'[:5] ='Hello'\n",
    "'hello, world'[3:] ='lo, world!"
   ]
  },
  {
   "cell_type": "code",
   "execution_count": 12,
   "id": "67b2fa51",
   "metadata": {},
   "outputs": [
    {
     "data": {
      "text/plain": [
       "'HELLO'"
      ]
     },
     "execution_count": 12,
     "metadata": {},
     "output_type": "execute_result"
    }
   ],
   "source": [
    "#answer-7\n",
    "'hello'.upper()\n"
   ]
  },
  {
   "cell_type": "code",
   "execution_count": 13,
   "id": "398102c8",
   "metadata": {},
   "outputs": [
    {
     "data": {
      "text/plain": [
       "True"
      ]
     },
     "execution_count": 13,
     "metadata": {},
     "output_type": "execute_result"
    }
   ],
   "source": [
    "'hello'.upper().isupper()"
   ]
  },
  {
   "cell_type": "code",
   "execution_count": 14,
   "id": "bd0ae248",
   "metadata": {},
   "outputs": [
    {
     "data": {
      "text/plain": [
       "False"
      ]
     },
     "execution_count": 14,
     "metadata": {},
     "output_type": "execute_result"
    }
   ],
   "source": [
    "'hello'.upper().islower()"
   ]
  },
  {
   "cell_type": "code",
   "execution_count": 17,
   "id": "df90e017",
   "metadata": {},
   "outputs": [
    {
     "data": {
      "text/plain": [
       "['Remember,remember,', 'the', 'fifth', 'of', 'July']"
      ]
     },
     "execution_count": 17,
     "metadata": {},
     "output_type": "execute_result"
    }
   ],
   "source": [
    "#answer-8\n",
    "'Remember,remember, the fifth of July'.split()\n"
   ]
  },
  {
   "cell_type": "code",
   "execution_count": 18,
   "id": "6b0cb908",
   "metadata": {},
   "outputs": [
    {
     "data": {
      "text/plain": [
       "'There-can-only-one'"
      ]
     },
     "execution_count": 18,
     "metadata": {},
     "output_type": "execute_result"
    }
   ],
   "source": [
    "'-'.join('There can only one'.split())"
   ]
  },
  {
   "cell_type": "markdown",
   "id": "14f99b6a",
   "metadata": {},
   "source": [
    "answer-9\n",
    "\n",
    "rjust(), ljust(), and center()"
   ]
  },
  {
   "cell_type": "markdown",
   "id": "cdc7cba7",
   "metadata": {},
   "source": [
    "answer-10\n",
    "\n",
    "lstrip() and rstrip()"
   ]
  }
 ],
 "metadata": {
  "kernelspec": {
   "display_name": "Python 3 (ipykernel)",
   "language": "python",
   "name": "python3"
  },
  "language_info": {
   "codemirror_mode": {
    "name": "ipython",
    "version": 3
   },
   "file_extension": ".py",
   "mimetype": "text/x-python",
   "name": "python",
   "nbconvert_exporter": "python",
   "pygments_lexer": "ipython3",
   "version": "3.9.7"
  }
 },
 "nbformat": 4,
 "nbformat_minor": 5
}
