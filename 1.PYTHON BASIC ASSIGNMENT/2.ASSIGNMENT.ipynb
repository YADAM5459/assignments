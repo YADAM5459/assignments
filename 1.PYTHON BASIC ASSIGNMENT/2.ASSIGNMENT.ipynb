{
 "cells": [
  {
   "cell_type": "markdown",
   "id": "a26394c4",
   "metadata": {},
   "source": [
    "ANSWER - 1\n",
    " true and false\n",
    " s=True\n",
    " s=False"
   ]
  },
  {
   "cell_type": "markdown",
   "id": "ebe5f433",
   "metadata": {},
   "source": [
    "ANSWER-2\n",
    "AND, OR, and NOR"
   ]
  },
  {
   "cell_type": "markdown",
   "id": "9778f213",
   "metadata": {},
   "source": [
    "ANSWER-3\n",
    "AND\n",
    "T\tT\tT\n",
    "T\tF\tF\n",
    "F\tT\tF\n",
    "F\tF\tF\n",
    "OR\n",
    "T\tT\tT\n",
    "T\tF\tT\n",
    "F\tT\tT\n",
    "F\tF\tF"
   ]
  },
  {
   "cell_type": "code",
   "execution_count": 8,
   "id": "b5632ca9",
   "metadata": {},
   "outputs": [
    {
     "data": {
      "text/plain": [
       "False"
      ]
     },
     "execution_count": 8,
     "metadata": {},
     "output_type": "execute_result"
    }
   ],
   "source": [
    "#ANSWER=4\n",
    "(5> 4) and (3 == 5)"
   ]
  },
  {
   "cell_type": "code",
   "execution_count": 7,
   "id": "642a7dee",
   "metadata": {},
   "outputs": [
    {
     "data": {
      "text/plain": [
       "False"
      ]
     },
     "execution_count": 7,
     "metadata": {},
     "output_type": "execute_result"
    }
   ],
   "source": [
    "not(5 >4)"
   ]
  },
  {
   "cell_type": "code",
   "execution_count": 9,
   "id": "71f87a7d",
   "metadata": {},
   "outputs": [
    {
     "data": {
      "text/plain": [
       "True"
      ]
     },
     "execution_count": 9,
     "metadata": {},
     "output_type": "execute_result"
    }
   ],
   "source": [
    "(5 > 4) or (3 == 5)"
   ]
  },
  {
   "cell_type": "code",
   "execution_count": 10,
   "id": "59ad1ed5",
   "metadata": {},
   "outputs": [
    {
     "data": {
      "text/plain": [
       "False"
      ]
     },
     "execution_count": 10,
     "metadata": {},
     "output_type": "execute_result"
    }
   ],
   "source": [
    "not ((5>4) or (3 == 5))"
   ]
  },
  {
   "cell_type": "code",
   "execution_count": 11,
   "id": "c7277c95",
   "metadata": {},
   "outputs": [
    {
     "data": {
      "text/plain": [
       "False"
      ]
     },
     "execution_count": 11,
     "metadata": {},
     "output_type": "execute_result"
    }
   ],
   "source": [
    "(True and True) and (True == False)"
   ]
  },
  {
   "cell_type": "code",
   "execution_count": 12,
   "id": "d2769e91",
   "metadata": {},
   "outputs": [
    {
     "data": {
      "text/plain": [
       "True"
      ]
     },
     "execution_count": 12,
     "metadata": {},
     "output_type": "execute_result"
    }
   ],
   "source": [
    "(not False) or (not True)"
   ]
  },
  {
   "cell_type": "markdown",
   "id": "9a4ea07e",
   "metadata": {},
   "source": [
    "ansewr-5\n",
    "Less than ( < )\n",
    "Less than or equal to (<=)\n",
    "Greater than (>)\n",
    "Greater than or equal to (>=)\n",
    "Equal to ( == )\n",
    "Not equal to ( != )\n"
   ]
  },
  {
   "cell_type": "markdown",
   "id": "38609e53",
   "metadata": {},
   "source": [
    "answer-6\n",
    "“=” is an assignment operator is used to assign the value\n",
    "'!=' operator checks whether the two given operands are equal or not. \n"
   ]
  },
  {
   "cell_type": "code",
   "execution_count": null,
   "id": "099def5e",
   "metadata": {},
   "outputs": [],
   "source": [
    "#answer-8\n",
    "spam = 0\n",
    "if spam == 10:\n",
    "print(\"eggs\")\n",
    "if spam > 5:\n",
    "print(\"bacon\")\n",
    "else:\n",
    "print(\"ham\")\n",
    "print(\"spam\")\n",
    "print(\"spam\")\n",
    "#IndentationError due to print function "
   ]
  },
  {
   "cell_type": "code",
   "execution_count": 15,
   "id": "358d918a",
   "metadata": {},
   "outputs": [
    {
     "name": "stdout",
     "output_type": "stream",
     "text": [
      "Greetings!\n"
     ]
    }
   ],
   "source": [
    "#answer-8\n",
    "spam = 0\n",
    "if spam == 1:\n",
    "    print(\"Hello\")\n",
    "if spam == 2:\n",
    "    print(\"Howdy\")\n",
    "else:\n",
    "    print(\"Greetings!\")\n"
   ]
  },
  {
   "cell_type": "markdown",
   "id": "ec6e1c21",
   "metadata": {},
   "source": [
    "answer-9\n",
    "CTRL + C"
   ]
  },
  {
   "cell_type": "markdown",
   "id": "3fe077d2",
   "metadata": {},
   "source": [
    "answer-10\n",
    "break-it stops the loop if certain command executes\n",
    "continue-it continues the loop if certain command executes"
   ]
  },
  {
   "cell_type": "code",
   "execution_count": 24,
   "id": "0e7099ca",
   "metadata": {},
   "outputs": [
    {
     "name": "stdout",
     "output_type": "stream",
     "text": [
      "0123456789\n",
      "0123456789\n",
      "0123456789\n"
     ]
    }
   ],
   "source": [
    "#answer-11\n",
    "for i in range(10):\n",
    "     print(i,end=\"\")\n",
    "print() \n",
    "#in this case it directly increments 10 by default +1 from 0\n",
    "\n",
    "\n",
    "for i in range(0,10):\n",
    "     print(i,end=\"\")\n",
    "print()\n",
    "#in this case it increments from 0 to 10 by default increment +1\n",
    "\n",
    "\n",
    "for i in range(0,10,1):\n",
    "     print(i,end=\"\")\n",
    "print()     \n",
    "#in this case it increments from 0 to 10 by given increment +1        "
   ]
  },
  {
   "cell_type": "code",
   "execution_count": 27,
   "id": "6df06f2e",
   "metadata": {},
   "outputs": [
    {
     "name": "stdout",
     "output_type": "stream",
     "text": [
      "0123456789\n",
      "0\n",
      "1\n",
      "2\n",
      "3\n",
      "4\n",
      "5\n",
      "6\n",
      "7\n",
      "8\n",
      "9\n",
      "10\n"
     ]
    }
   ],
   "source": [
    "#answer-12\n",
    "for i in range(0,10,1):\n",
    "     print(i,end=\"\")\n",
    "print()  \n",
    "\n",
    "i=0\n",
    "while i<11:\n",
    "    print(i)\n",
    "    i=i+1"
   ]
  },
  {
   "cell_type": "markdown",
   "id": "45a4991d",
   "metadata": {},
   "source": [
    "answer-13\n",
    "spam.bacon()."
   ]
  }
 ],
 "metadata": {
  "kernelspec": {
   "display_name": "Python 3 (ipykernel)",
   "language": "python",
   "name": "python3"
  },
  "language_info": {
   "codemirror_mode": {
    "name": "ipython",
    "version": 3
   },
   "file_extension": ".py",
   "mimetype": "text/x-python",
   "name": "python",
   "nbconvert_exporter": "python",
   "pygments_lexer": "ipython3",
   "version": "3.9.7"
  }
 },
 "nbformat": 4,
 "nbformat_minor": 5
}
