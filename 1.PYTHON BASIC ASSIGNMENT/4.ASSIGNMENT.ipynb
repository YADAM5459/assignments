{
 "cells": [
  {
   "cell_type": "markdown",
   "id": "287fe56a",
   "metadata": {},
   "source": [
    "# ASSIGNMENT-4\n",
    "\n",
    "answer-1\n",
    "\n",
    "this an empty list"
   ]
  },
  {
   "cell_type": "code",
   "execution_count": 1,
   "id": "e9196e88",
   "metadata": {},
   "outputs": [
    {
     "data": {
      "text/plain": [
       "[2, 4, 'hello', 8, 10]"
      ]
     },
     "execution_count": 1,
     "metadata": {},
     "output_type": "execute_result"
    }
   ],
   "source": [
    "#answer-2\n",
    "spam =[2,4,6,8,10]\n",
    "spam[2]=\"hello\"\n",
    "spam"
   ]
  },
  {
   "cell_type": "code",
   "execution_count": 4,
   "id": "7330b0c2",
   "metadata": {},
   "outputs": [
    {
     "data": {
      "text/plain": [
       "'d'"
      ]
     },
     "execution_count": 4,
     "metadata": {},
     "output_type": "execute_result"
    }
   ],
   "source": [
    "#answer-3\n",
    "spam=['a','b','c','d']\n",
    "spam[int(int('3'*2) / 11)]"
   ]
  },
  {
   "cell_type": "code",
   "execution_count": 5,
   "id": "a8169991",
   "metadata": {},
   "outputs": [
    {
     "data": {
      "text/plain": [
       "'d'"
      ]
     },
     "execution_count": 5,
     "metadata": {},
     "output_type": "execute_result"
    }
   ],
   "source": [
    "#answer-4\n",
    "spam[-1]"
   ]
  },
  {
   "cell_type": "code",
   "execution_count": 6,
   "id": "3a9d714a",
   "metadata": {},
   "outputs": [
    {
     "data": {
      "text/plain": [
       "['a', 'b']"
      ]
     },
     "execution_count": 6,
     "metadata": {},
     "output_type": "execute_result"
    }
   ],
   "source": [
    "#answer-5\n",
    "spam[:2]"
   ]
  },
  {
   "cell_type": "code",
   "execution_count": 12,
   "id": "5a4a8f18",
   "metadata": {},
   "outputs": [
    {
     "data": {
      "text/plain": [
       "1"
      ]
     },
     "execution_count": 12,
     "metadata": {},
     "output_type": "execute_result"
    }
   ],
   "source": [
    "#answer-6\n",
    "bacon =[3.14,'cat',11,'cat',True]\n",
    "bacon.index('cat')"
   ]
  },
  {
   "cell_type": "code",
   "execution_count": 13,
   "id": "a0c5a6ed",
   "metadata": {},
   "outputs": [
    {
     "data": {
      "text/plain": [
       "[3.14, 'cat', 11, 'cat', True, 99]"
      ]
     },
     "execution_count": 13,
     "metadata": {},
     "output_type": "execute_result"
    }
   ],
   "source": [
    "#answer-7\n",
    "bacon.append(99)\n",
    "bacon"
   ]
  },
  {
   "cell_type": "code",
   "execution_count": 14,
   "id": "e2940038",
   "metadata": {},
   "outputs": [
    {
     "data": {
      "text/plain": [
       "[3.14, 11, 'cat', True, 99]"
      ]
     },
     "execution_count": 14,
     "metadata": {},
     "output_type": "execute_result"
    }
   ],
   "source": [
    "#answer-8\n",
    "bacon.remove('cat')\n",
    "bacon"
   ]
  },
  {
   "cell_type": "markdown",
   "id": "bb6d1e15",
   "metadata": {},
   "source": [
    "answer-9\n",
    "\n",
    " concatenation = +\n",
    " \n",
    " operator = *\n",
    " \n",
    "answer-10\n",
    "\n",
    "anwer-11\n",
    "\n",
    "append means it add a element to list at last position whereas insert means it adds at pirticular location\n",
    "\n",
    "answer -12\n",
    "\n",
    "in both list and by using indexing we can obtain data in a same way.\n",
    "\n",
    "answer-13\n",
    "\n",
    "list are mutable and tuples arenot mutable\n",
    "\n"
   ]
  },
  {
   "cell_type": "code",
   "execution_count": 21,
   "id": "482b7b0b",
   "metadata": {},
   "outputs": [
    {
     "data": {
      "text/plain": [
       "tuple"
      ]
     },
     "execution_count": 21,
     "metadata": {},
     "output_type": "execute_result"
    }
   ],
   "source": [
    "#answer-14\n",
    "t=tuple([42])\n",
    "type(t)"
   ]
  },
  {
   "cell_type": "markdown",
   "id": "c4e3d042",
   "metadata": {},
   "source": [
    "answer-15\n",
    "\n",
    "for tuple= tuple()\n",
    "\n",
    "for list =list() \n",
    "\n",
    "answer-16\n",
    "\n",
    "address to the lists\n"
   ]
  },
  {
   "cell_type": "code",
   "execution_count": 36,
   "id": "635b41b0",
   "metadata": {},
   "outputs": [
    {
     "data": {
      "text/plain": [
       "['list', 'tuple', 'mani']"
      ]
     },
     "execution_count": 36,
     "metadata": {},
     "output_type": "execute_result"
    }
   ],
   "source": [
    "#answer-17\n",
    "#The copy.copy() function will do a shallow copy of a list, while the copy.deepcopy() function will do a deep copy of a list.\n",
    "import copy\n",
    "y= [\"list\",\"tuple\",\"mani\"]\n",
    "copy.copy(y)"
   ]
  },
  {
   "cell_type": "code",
   "execution_count": 37,
   "id": "d540b307",
   "metadata": {},
   "outputs": [
    {
     "data": {
      "text/plain": [
       "['list', 'tuple', 'mani']"
      ]
     },
     "execution_count": 37,
     "metadata": {},
     "output_type": "execute_result"
    }
   ],
   "source": [
    "import copy\n",
    "copy.deepcopy(y)"
   ]
  },
  {
   "cell_type": "code",
   "execution_count": null,
   "id": "b65dd5a6",
   "metadata": {},
   "outputs": [],
   "source": []
  }
 ],
 "metadata": {
  "kernelspec": {
   "display_name": "Python 3 (ipykernel)",
   "language": "python",
   "name": "python3"
  },
  "language_info": {
   "codemirror_mode": {
    "name": "ipython",
    "version": 3
   },
   "file_extension": ".py",
   "mimetype": "text/x-python",
   "name": "python",
   "nbconvert_exporter": "python",
   "pygments_lexer": "ipython3",
   "version": "3.9.7"
  }
 },
 "nbformat": 4,
 "nbformat_minor": 5
}
