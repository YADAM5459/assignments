{
 "cells": [
  {
   "cell_type": "markdown",
   "id": "5a332c7b",
   "metadata": {},
   "source": [
    "# ASSIGNMENT-5\n",
    "ANSWER-1\n",
    "\n",
    "L= {}\n",
    "\n",
    "ANSWER-2\n",
    "\n",
    "L={'FOO':42}\n",
    "\n",
    "ANSWER-3\n",
    "\n",
    "Dict uses {} where as lists use []. indxeing is easy for lists and for dict we need call each key to get its value."
   ]
  },
  {
   "cell_type": "code",
   "execution_count": 4,
   "id": "cb5072eb",
   "metadata": {},
   "outputs": [
    {
     "ename": "KeyError",
     "evalue": "'foo'",
     "output_type": "error",
     "traceback": [
      "\u001b[1;31m---------------------------------------------------------------------------\u001b[0m",
      "\u001b[1;31mKeyError\u001b[0m                                  Traceback (most recent call last)",
      "\u001b[1;32m~\\AppData\\Local\\Temp/ipykernel_10064/649537302.py\u001b[0m in \u001b[0;36m<module>\u001b[1;34m\u001b[0m\n\u001b[0;32m      1\u001b[0m \u001b[1;31m#answer-4\u001b[0m\u001b[1;33m\u001b[0m\u001b[1;33m\u001b[0m\u001b[0m\n\u001b[0;32m      2\u001b[0m \u001b[0mspam\u001b[0m\u001b[1;33m=\u001b[0m\u001b[1;33m{\u001b[0m\u001b[1;34m'bar'\u001b[0m\u001b[1;33m:\u001b[0m\u001b[1;36m100\u001b[0m\u001b[1;33m}\u001b[0m\u001b[1;33m\u001b[0m\u001b[1;33m\u001b[0m\u001b[0m\n\u001b[1;32m----> 3\u001b[1;33m \u001b[0mspam\u001b[0m\u001b[1;33m[\u001b[0m\u001b[1;34m'foo'\u001b[0m\u001b[1;33m]\u001b[0m\u001b[1;33m\u001b[0m\u001b[1;33m\u001b[0m\u001b[0m\n\u001b[0m\u001b[0;32m      4\u001b[0m \u001b[1;33m\u001b[0m\u001b[0m\n\u001b[0;32m      5\u001b[0m \u001b[1;31m#here we are getting error because there is no keyword like foo\u001b[0m\u001b[1;33m\u001b[0m\u001b[1;33m\u001b[0m\u001b[0m\n",
      "\u001b[1;31mKeyError\u001b[0m: 'foo'"
     ]
    }
   ],
   "source": [
    "#answer-4\n",
    "spam={'bar':100}\n",
    "spam['foo']\n",
    "\n",
    "#here we are getting error because there is no keyword like foo"
   ]
  },
  {
   "cell_type": "code",
   "execution_count": 14,
   "id": "6f5ce305",
   "metadata": {},
   "outputs": [
    {
     "name": "stdout",
     "output_type": "stream",
     "text": [
      "False\n",
      "False\n"
     ]
    }
   ],
   "source": [
    "#answer-5\n",
    "\n",
    "print('cat' in spam.keys())\n",
    "\n",
    "print('cat' in spam)\n",
    "\n",
    "#no diiference both give false"
   ]
  },
  {
   "cell_type": "code",
   "execution_count": 15,
   "id": "28a80375",
   "metadata": {},
   "outputs": [
    {
     "name": "stdout",
     "output_type": "stream",
     "text": [
      "False\n",
      "False\n"
     ]
    }
   ],
   "source": [
    "#anser-6\n",
    "print('cat' in spam.values())\n",
    "\n",
    "print('cat' in spam)\n",
    "#in first case 'cat' is cecked in values of each key and in second case 'cat' is checked wheher it is there in dict. "
   ]
  },
  {
   "cell_type": "code",
   "execution_count": 16,
   "id": "6bac7331",
   "metadata": {},
   "outputs": [
    {
     "data": {
      "text/plain": [
       "'black'"
      ]
     },
     "execution_count": 16,
     "metadata": {},
     "output_type": "execute_result"
    }
   ],
   "source": [
    "#answer-7\n",
    "\n",
    "spam.setdefault('color', 'black')"
   ]
  },
  {
   "cell_type": "code",
   "execution_count": 24,
   "id": "6012ca20",
   "metadata": {},
   "outputs": [
    {
     "data": {
      "text/plain": [
       "'pretty print'"
      ]
     },
     "execution_count": 24,
     "metadata": {},
     "output_type": "execute_result"
    }
   ],
   "source": [
    "#answer-8\n",
    "s={'f':\"pretty print\"}\n",
    "s['f']"
   ]
  }
 ],
 "metadata": {
  "kernelspec": {
   "display_name": "Python 3 (ipykernel)",
   "language": "python",
   "name": "python3"
  },
  "language_info": {
   "codemirror_mode": {
    "name": "ipython",
    "version": 3
   },
   "file_extension": ".py",
   "mimetype": "text/x-python",
   "name": "python",
   "nbconvert_exporter": "python",
   "pygments_lexer": "ipython3",
   "version": "3.9.7"
  }
 },
 "nbformat": 4,
 "nbformat_minor": 5
}
