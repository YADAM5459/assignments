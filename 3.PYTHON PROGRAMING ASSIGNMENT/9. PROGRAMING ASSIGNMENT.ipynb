{
 "cells": [
  {
   "cell_type": "code",
   "execution_count": 10,
   "id": "fafb0bb1",
   "metadata": {},
   "outputs": [
    {
     "name": "stdout",
     "output_type": "stream",
     "text": [
      "456\n",
      "245\n",
      "not a disarium Number\n"
     ]
    }
   ],
   "source": [
    "#answer-1\n",
    "a=int(input())\n",
    "b=len(str(a))\n",
    "d=0\n",
    "e=a\n",
    "while a>0:\n",
    "    f=a%10\n",
    "    c=f\n",
    "    d=d+c**b\n",
    "    b=b-1\n",
    "    a//=10\n",
    "print(d)\n",
    "if e==d:\n",
    "    print(\"It is a disarium Number\")\n",
    "else:\n",
    "    print(\"not a disarium Number\")"
   ]
  },
  {
   "cell_type": "code",
   "execution_count": 8,
   "id": "e89ef32d",
   "metadata": {},
   "outputs": [
    {
     "name": "stdout",
     "output_type": "stream",
     "text": [
      "disarium Number 1\n",
      "disarium Number 2\n",
      "disarium Number 3\n",
      "disarium Number 4\n",
      "disarium Number 5\n",
      "disarium Number 6\n",
      "disarium Number 7\n",
      "disarium Number 8\n",
      "disarium Number 9\n",
      "disarium Number 89\n"
     ]
    }
   ],
   "source": [
    "#answer-2\n",
    "a=1\n",
    "f=100\n",
    "for i in range(a,f+1):\n",
    "    b=len(str(i))\n",
    "    e=i\n",
    "    d=0\n",
    "    while i>0:\n",
    "        f=i%10\n",
    "        c=f\n",
    "        d=d+c**b\n",
    "        b=b-1\n",
    "        i//=10\n",
    "    if e==d:\n",
    "        print(\"disarium Number\",d)"
   ]
  },
  {
   "cell_type": "code",
   "execution_count": 14,
   "id": "40a34a98",
   "metadata": {},
   "outputs": [
    {
     "name": "stdout",
     "output_type": "stream",
     "text": [
      "49\n",
      "it is a happy number 1\n"
     ]
    }
   ],
   "source": [
    "#answer-3\n",
    "a=int(input())\n",
    "while a>0:\n",
    "    c=0\n",
    "    while a>0:\n",
    "        d=a%10\n",
    "        c=c +d**2\n",
    "        a//=10\n",
    "    a=c    \n",
    "    if c==1:\n",
    "        print(\"it is a happy number\",c)\n",
    "        break\n",
    "    elif 2<c<9 :\n",
    "        print(\"it is not ahappy number\",c)\n",
    "        break\n",
    "        "
   ]
  },
  {
   "cell_type": "code",
   "execution_count": 13,
   "id": "301b5b6c",
   "metadata": {},
   "outputs": [
    {
     "name": "stdout",
     "output_type": "stream",
     "text": [
      "it is a happy number 1\n",
      "it is a happy number 7\n",
      "it is a happy number 10\n",
      "it is a happy number 13\n",
      "it is a happy number 19\n",
      "it is a happy number 23\n",
      "it is a happy number 28\n",
      "it is a happy number 31\n",
      "it is a happy number 32\n",
      "it is a happy number 44\n",
      "it is a happy number 49\n",
      "it is a happy number 68\n",
      "it is a happy number 70\n",
      "it is a happy number 79\n",
      "it is a happy number 82\n",
      "it is a happy number 86\n",
      "it is a happy number 91\n",
      "it is a happy number 94\n",
      "it is a happy number 97\n",
      "it is a happy number 100\n"
     ]
    }
   ],
   "source": [
    "#answer-4\n",
    "l=1\n",
    "b=100\n",
    "for a in range(1,101):\n",
    "    f=a\n",
    "    while a>0:\n",
    "        c=0\n",
    "        while a>0:\n",
    "            d=a%10\n",
    "            c=c +d**2\n",
    "            a//=10\n",
    "        a=c    \n",
    "        if c==1:\n",
    "            print(\"it is a happy number\",f)\n",
    "            break\n",
    "        elif 2<c<9 :\n",
    "            break\n",
    "    \n",
    "    \n",
    "   \n",
    "\n",
    "        "
   ]
  },
  {
   "cell_type": "code",
   "execution_count": 16,
   "id": "f506639c",
   "metadata": {},
   "outputs": [
    {
     "name": "stdout",
     "output_type": "stream",
     "text": [
      "17\n",
      "not a Harshad Number\n"
     ]
    }
   ],
   "source": [
    "#answer-5\n",
    "a=int(input())\n",
    "g=a\n",
    "d=0\n",
    "while a>0:\n",
    "    c=a%10\n",
    "    d=d+c\n",
    "    a//=10\n",
    "if g%d==0:\n",
    "    print(\"Harshad Number\")\n",
    "else:\n",
    "    print(\"not a Harshad Number\")\n",
    "    "
   ]
  },
  {
   "cell_type": "code",
   "execution_count": 6,
   "id": "3bd1fe4d",
   "metadata": {},
   "outputs": [
    {
     "name": "stdout",
     "output_type": "stream",
     "text": [
      "132\n",
      "[1, 2, 3, 4, 6, 11, 12, 22, 33, 44, 66, 132]\n",
      "pronic\n"
     ]
    }
   ],
   "source": [
    "#answer-6\n",
    "#pronic number\n",
    "a=int(input())\n",
    "b=[]\n",
    "for i in range(1,a+1):\n",
    "    if a%i==0:\n",
    "        b.append(i)\n",
    "c= len(b)\n",
    "print(b)\n",
    "for i in range(1,c-1):\n",
    "    if b[i+1]*b[i]==a and b[i+1]-b[i]==1:\n",
    "        print(\"pronic\")\n",
    "        break     "
   ]
  }
 ],
 "metadata": {
  "kernelspec": {
   "display_name": "Python 3 (ipykernel)",
   "language": "python",
   "name": "python3"
  },
  "language_info": {
   "codemirror_mode": {
    "name": "ipython",
    "version": 3
   },
   "file_extension": ".py",
   "mimetype": "text/x-python",
   "name": "python",
   "nbconvert_exporter": "python",
   "pygments_lexer": "ipython3",
   "version": "3.9.7"
  }
 },
 "nbformat": 4,
 "nbformat_minor": 5
}
