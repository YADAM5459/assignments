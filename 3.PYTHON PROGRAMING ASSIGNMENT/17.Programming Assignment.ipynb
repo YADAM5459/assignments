{
 "cells": [
  {
   "cell_type": "code",
   "execution_count": 7,
   "id": "c7817180",
   "metadata": {},
   "outputs": [
    {
     "name": "stdout",
     "output_type": "stream",
     "text": [
      "no number is divisble\n"
     ]
    }
   ],
   "source": [
    "#answer-1\n",
    "def ed(a,b,c):\n",
    "    d=[]\n",
    "    e=[]\n",
    "    f=[]\n",
    "    g=0\n",
    "    for i in range(a,b+1):\n",
    "        f.append(str(i))\n",
    "        if i%c==0:\n",
    "            d.append(str(i))\n",
    "        else:\n",
    "            e.append(str(i))\n",
    "    if len(d)!=0:\n",
    "        for i in range(len(d)):\n",
    "            g=g+int(d[i])\n",
    "        return g\n",
    "            \n",
    "    elif f==e:\n",
    "        print(\"no number is divisble\")\n",
    "ed(1,10,20)\n",
    "        "
   ]
  },
  {
   "cell_type": "code",
   "execution_count": 2,
   "id": "4395209f",
   "metadata": {},
   "outputs": [
    {
     "name": "stdout",
     "output_type": "stream",
     "text": [
      "4>56>6\n"
     ]
    }
   ],
   "source": [
    "#answer-2\n",
    "#Create a function that returns True if a given inequality expression is correct and\n",
    "#False otherwise.\n",
    "#7>5>6=false\n",
    "def fuck():\n",
    "    f=input()\n",
    "    c=(f[1])\n",
    "    type(b)\n",
    "fuck()    "
   ]
  },
  {
   "cell_type": "code",
   "execution_count": 20,
   "id": "3e1c96f1",
   "metadata": {},
   "outputs": [
    {
     "name": "stdout",
     "output_type": "stream",
     "text": [
      "sun god\n",
      "#\n"
     ]
    },
    {
     "data": {
      "text/plain": [
       "['s', '#', 'n', ' ', 'g', '#', 'd']"
      ]
     },
     "execution_count": 20,
     "metadata": {},
     "output_type": "execute_result"
    }
   ],
   "source": [
    "#answer-3\n",
    "a=input(\"enter the string\")\n",
    "d=input(\"enter the symbol\")\n",
    "b=[]\n",
    "c=[\"a\",\"e\",\"i\",\"o\",\"u\",\"A\",\"E\",\"I\",\"O\",\"U\"]\n",
    "def vow():\n",
    "    for i in a:\n",
    "        if i not in c:\n",
    "            b.append(i)\n",
    "        else :\n",
    "            b.append(d)\n",
    "    return b        \n",
    "vow()            \n",
    "        "
   ]
  },
  {
   "cell_type": "code",
   "execution_count": 23,
   "id": "b5254b7c",
   "metadata": {},
   "outputs": [
    {
     "name": "stdout",
     "output_type": "stream",
     "text": [
      "enter the number5\n"
     ]
    },
    {
     "data": {
      "text/plain": [
       "120"
      ]
     },
     "execution_count": 23,
     "metadata": {},
     "output_type": "execute_result"
    }
   ],
   "source": [
    "#answer-4\n",
    "def fact():\n",
    "    a=int(input(\"enter the number\"))\n",
    "    d=1\n",
    "    while a>1:\n",
    "        c=a*d\n",
    "        a=a-1\n",
    "        d=c\n",
    "    return d\n",
    "fact()\n"
   ]
  },
  {
   "cell_type": "code",
   "execution_count": 26,
   "id": "8725c662",
   "metadata": {},
   "outputs": [
    {
     "name": "stdout",
     "output_type": "stream",
     "text": [
      "enter the string 1asdfg\n",
      "enter the string 2asdfg\n"
     ]
    },
    {
     "data": {
      "text/plain": [
       "0"
      ]
     },
     "execution_count": 26,
     "metadata": {},
     "output_type": "execute_result"
    }
   ],
   "source": [
    "#answer-5\n",
    "def ham():\n",
    "    a=input(\"enter the string 1\")\n",
    "    b=input(\"enter the string 2\")\n",
    "    c=a.split()\n",
    "    d=b.split()\n",
    "    e=0\n",
    "    for i in range(len(c)):\n",
    "        if c[i]!=d[i]:\n",
    "            c=c+1\n",
    "        else:\n",
    "            pass\n",
    "    return e    \n",
    "ham()    \n",
    "    \n",
    "    "
   ]
  },
  {
   "cell_type": "code",
   "execution_count": null,
   "id": "cc577b00",
   "metadata": {},
   "outputs": [],
   "source": []
  }
 ],
 "metadata": {
  "kernelspec": {
   "display_name": "Python 3 (ipykernel)",
   "language": "python",
   "name": "python3"
  },
  "language_info": {
   "codemirror_mode": {
    "name": "ipython",
    "version": 3
   },
   "file_extension": ".py",
   "mimetype": "text/x-python",
   "name": "python",
   "nbconvert_exporter": "python",
   "pygments_lexer": "ipython3",
   "version": "3.9.7"
  }
 },
 "nbformat": 4,
 "nbformat_minor": 5
}
