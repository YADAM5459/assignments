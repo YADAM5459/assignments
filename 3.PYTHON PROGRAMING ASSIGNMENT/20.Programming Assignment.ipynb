{
 "cells": [
  {
   "cell_type": "code",
   "execution_count": 14,
   "id": "0b5e889a",
   "metadata": {},
   "outputs": [
    {
     "name": "stdout",
     "output_type": "stream",
     "text": [
      "2022-01-20 15:40:45.585363\n"
     ]
    }
   ],
   "source": [
    "import datetime \n",
    "print(datetime.datetime.now())"
   ]
  },
  {
   "cell_type": "code",
   "execution_count": 7,
   "id": "db4f4aff",
   "metadata": {},
   "outputs": [
    {
     "data": {
      "text/plain": [
       "[1, 2, 3, 4]"
      ]
     },
     "execution_count": 7,
     "metadata": {},
     "output_type": "execute_result"
    }
   ],
   "source": [
    "#answer-1\n",
    "def integers(a):\n",
    "    b=[]\n",
    "    for i in a:\n",
    "        if type(i) == int:\n",
    "            b.append(i)\n",
    "    return b\n",
    "integers([1, 2, 3, \"a\",\"b\", 4])\n",
    "            \n",
    "    "
   ]
  },
  {
   "cell_type": "code",
   "execution_count": 10,
   "id": "5b2b0350",
   "metadata": {},
   "outputs": [
    {
     "name": "stdout",
     "output_type": "stream",
     "text": [
      "[0, 1, 2, 3, 4]\n",
      "[1, 3, 5, 7, 9]\n"
     ]
    }
   ],
   "source": [
    "#answer-2\n",
    "def index(a):\n",
    "    for i in range(0,len(a)):\n",
    "        a[i]=a[i]+i\n",
    "    return a\n",
    "print(index([0, 0, 0, 0, 0]))\n",
    "print(index([1, 2, 3, 4, 5]))"
   ]
  },
  {
   "cell_type": "code",
   "execution_count": 15,
   "id": "0f6327d0",
   "metadata": {},
   "outputs": [
    {
     "data": {
      "text/plain": [
       "261.79938779914943"
      ]
     },
     "execution_count": 15,
     "metadata": {},
     "output_type": "execute_result"
    }
   ],
   "source": [
    "#answer-3\n",
    "def vol(radius,height):\n",
    "    import math\n",
    "    return (math.pi*radius**2*height)/3\n",
    "vol(5,10)"
   ]
  },
  {
   "cell_type": "code",
   "execution_count": 25,
   "id": "93063a97",
   "metadata": {},
   "outputs": [
    {
     "data": {
      "text/plain": [
       "6"
      ]
     },
     "execution_count": 25,
     "metadata": {},
     "output_type": "execute_result"
    }
   ],
   "source": [
    "#answer-4\n",
    "def dots(s):\n",
    "    b=0\n",
    "    for i in range(1,s+1):\n",
    "        b=b+i\n",
    "    return b    \n",
    "dots(3)"
   ]
  },
  {
   "cell_type": "code",
   "execution_count": 1,
   "id": "8412b750",
   "metadata": {},
   "outputs": [
    {
     "data": {
      "text/plain": [
       "[]"
      ]
     },
     "execution_count": 1,
     "metadata": {},
     "output_type": "execute_result"
    }
   ],
   "source": [
    "#answer-5\n",
    "#Create a function that takes a list of numbers between 1 and 10 (excluding one number) and returns the missing number.\n",
    "def miss(s):\n",
    "    a=[1, 2, 3, 4,5, 6, 7, 8, 9, 10]\n",
    "    b=[]\n",
    "    for i in range(len(s)):\n",
    "        if s[i] not in a:\n",
    "            b.append(i)\n",
    "    return b        \n",
    "            \n",
    "miss([1, 2, 3, 4, 7, 8, 9, 10])       "
   ]
  },
  {
   "cell_type": "code",
   "execution_count": 16,
   "id": "76f720d7",
   "metadata": {},
   "outputs": [
    {
     "data": {
      "text/plain": [
       "{5, 6}"
      ]
     },
     "execution_count": 16,
     "metadata": {},
     "output_type": "execute_result"
    }
   ],
   "source": [
    "#answer-5\n",
    "def miss(s):\n",
    "    a=set([1, 2, 3, 4,5, 6, 7, 8, 9, 10])\n",
    "    b=set(s)\n",
    "    return a.difference(b)\n",
    "miss([1, 2, 3, 4, 7, 8, 9, 10])"
   ]
  },
  {
   "cell_type": "code",
   "execution_count": null,
   "id": "bd57a2fa",
   "metadata": {},
   "outputs": [],
   "source": []
  }
 ],
 "metadata": {
  "kernelspec": {
   "display_name": "Python 3 (ipykernel)",
   "language": "python",
   "name": "python3"
  },
  "language_info": {
   "codemirror_mode": {
    "name": "ipython",
    "version": 3
   },
   "file_extension": ".py",
   "mimetype": "text/x-python",
   "name": "python",
   "nbconvert_exporter": "python",
   "pygments_lexer": "ipython3",
   "version": "3.9.7"
  }
 },
 "nbformat": 4,
 "nbformat_minor": 5
}
