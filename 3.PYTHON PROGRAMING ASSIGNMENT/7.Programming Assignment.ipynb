{
 "cells": [
  {
   "cell_type": "code",
   "execution_count": 2,
   "id": "9e1209bb",
   "metadata": {},
   "outputs": [
    {
     "data": {
      "text/plain": [
       "232"
      ]
     },
     "execution_count": 2,
     "metadata": {},
     "output_type": "execute_result"
    }
   ],
   "source": [
    "#answer-1\n",
    "a=[12,45,78,32,65]\n",
    "s=0\n",
    "for i in range(0,len(a)):\n",
    "    s=s+a[i]\n",
    "s"
   ]
  },
  {
   "cell_type": "code",
   "execution_count": 3,
   "id": "e717ea7a",
   "metadata": {},
   "outputs": [
    {
     "data": {
      "text/plain": [
       "78"
      ]
     },
     "execution_count": 3,
     "metadata": {},
     "output_type": "execute_result"
    }
   ],
   "source": [
    "#answer-2\n",
    "a=[12,45,78,32,65]\n",
    "max(a)\n"
   ]
  },
  {
   "cell_type": "code",
   "execution_count": 4,
   "id": "21173e64",
   "metadata": {},
   "outputs": [
    {
     "data": {
      "text/plain": [
       "[6, 1, 2, 3, 4, 5]"
      ]
     },
     "execution_count": 4,
     "metadata": {},
     "output_type": "execute_result"
    }
   ],
   "source": [
    "#answer-3\n",
    "a=[1,2,3,4,5,6]\n",
    "a.pop()\n",
    "a.insert(0,6)\n",
    "a"
   ]
  },
  {
   "cell_type": "code",
   "execution_count": 5,
   "id": "984ca30e",
   "metadata": {},
   "outputs": [
    {
     "data": {
      "text/plain": [
       "['is', 'the', 'most', 'powerful', 'weapon', 'Education']"
      ]
     },
     "execution_count": 5,
     "metadata": {},
     "output_type": "execute_result"
    }
   ],
   "source": [
    "#answer-4\n",
    "a=\"Education is the most powerful weapon\"\n",
    "b=a.split()\n",
    "c=[]\n",
    "for i in range(1,len(b)):\n",
    "    c.append(b[i])\n",
    "c.append(b[0])\n",
    "c\n"
   ]
  },
  {
   "cell_type": "code",
   "execution_count": 10,
   "id": "ebd33b3d",
   "metadata": {
    "scrolled": true
   },
   "outputs": [
    {
     "name": "stdout",
     "output_type": "stream",
     "text": [
      "enter num23\n",
      "enter num12\n",
      "enter num45\n",
      "enter num65\n",
      "enter num78\n",
      "not monotonic\n"
     ]
    }
   ],
   "source": [
    "#5. Write a Python Program to check if given array is Monotonic?\n",
    "a=[]\n",
    "for i in range(0,5):\n",
    "    g=input(\"enter num\")\n",
    "    a.append(int(g))\n",
    "\n",
    "if a[0]>a[1]:\n",
    "    if a[1]>a[2]:\n",
    "        if a[2]>a[3]:\n",
    "            if a[3]>a[4]:\n",
    "                print(\"monotonic\")\n",
    "if a[0]<a[1]:\n",
    "    if a[1]<a[2]:\n",
    "        if a[2]<a[3]:\n",
    "            if a[3]<a[4]:\n",
    "                print(\"monotonic\") \n",
    "else:\n",
    "    print(\"not monotonic\")\n",
    "    "
   ]
  },
  {
   "cell_type": "code",
   "execution_count": null,
   "id": "5a5d522d",
   "metadata": {},
   "outputs": [],
   "source": [
    "\n",
    "\n"
   ]
  }
 ],
 "metadata": {
  "kernelspec": {
   "display_name": "Python 3 (ipykernel)",
   "language": "python",
   "name": "python3"
  },
  "language_info": {
   "codemirror_mode": {
    "name": "ipython",
    "version": 3
   },
   "file_extension": ".py",
   "mimetype": "text/x-python",
   "name": "python",
   "nbconvert_exporter": "python",
   "pygments_lexer": "ipython3",
   "version": "3.9.7"
  }
 },
 "nbformat": 4,
 "nbformat_minor": 5
}
