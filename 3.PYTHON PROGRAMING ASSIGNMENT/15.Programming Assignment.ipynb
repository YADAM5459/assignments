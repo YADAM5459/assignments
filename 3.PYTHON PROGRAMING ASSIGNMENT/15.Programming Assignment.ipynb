{
 "cells": [
  {
   "cell_type": "code",
   "execution_count": 14,
   "id": "1d73f5df",
   "metadata": {},
   "outputs": [
    {
     "name": "stdout",
     "output_type": "stream",
     "text": [
      "123\n",
      "0,35,70,105\n"
     ]
    }
   ],
   "source": [
    "#answer-1\n",
    "def div(n):\n",
    "    for i in range(n):\n",
    "        if i%35==0:\n",
    "            yield i\n",
    "n=int(input())            \n",
    "a=[]\n",
    "for i in div(n):\n",
    "    a.append(str(i))\n",
    "    ans = \",\".join(a)\n",
    "print(ans) "
   ]
  },
  {
   "cell_type": "code",
   "execution_count": 13,
   "id": "6d7a3907",
   "metadata": {},
   "outputs": [
    {
     "name": "stdout",
     "output_type": "stream",
     "text": [
      "12\n",
      "0,2,4,6,8,10\n"
     ]
    }
   ],
   "source": [
    "#answer-2\n",
    "def even(n):\n",
    "    for i in range(n):\n",
    "        if i%2==0:\n",
    "            yield i\n",
    "n=int(input()) \n",
    "a=[]\n",
    "for i in even(n):\n",
    "    a.append(str(i))\n",
    "    ans = \",\".join(a)\n",
    "print(ans) "
   ]
  },
  {
   "cell_type": "code",
   "execution_count": null,
   "id": "9396682e",
   "metadata": {},
   "outputs": [],
   "source": [
    "#answer-3\n",
    "def f(n):\n",
    "    \n",
    "    return f(n-1)+f(n-2)\n",
    "f(8)\n",
    "           "
   ]
  },
  {
   "cell_type": "code",
   "execution_count": 5,
   "id": "254e49fe",
   "metadata": {},
   "outputs": [
    {
     "name": "stdout",
     "output_type": "stream",
     "text": [
      "emter your mail:h20201060275@hyderabad.bits-pilani.ac.in\n",
      "h20201060275\n"
     ]
    }
   ],
   "source": [
    "#annswer-4\n",
    "a=input(\"emter your mail:\")\n",
    "b=[]\n",
    "def email(a):\n",
    "    for i in a:\n",
    "        if i !=\"@\":\n",
    "            b.append(str(i))\n",
    "        elif i ==\"@\":\n",
    "            break\n",
    "email(a) \n",
    "ans = \"\".join(b)\n",
    "print(ans) \n",
    "            \n",
    "            "
   ]
  },
  {
   "cell_type": "code",
   "execution_count": null,
   "id": "b6ae3fd4",
   "metadata": {},
   "outputs": [],
   "source": [
    "Define a class named Shape and its subclass Square. The Square class has an init function\n",
    "which takes a length as argument. Both classes have a area function which can print the area\n",
    "of the shape where Shape&#39;s area is 0 by default.\n",
    "\n",
    "#answer-5\n",
    "class shape:\n",
    "    "
   ]
  }
 ],
 "metadata": {
  "kernelspec": {
   "display_name": "Python 3 (ipykernel)",
   "language": "python",
   "name": "python3"
  },
  "language_info": {
   "codemirror_mode": {
    "name": "ipython",
    "version": 3
   },
   "file_extension": ".py",
   "mimetype": "text/x-python",
   "name": "python",
   "nbconvert_exporter": "python",
   "pygments_lexer": "ipython3",
   "version": "3.9.7"
  }
 },
 "nbformat": 4,
 "nbformat_minor": 5
}
