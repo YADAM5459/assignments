{
 "cells": [
  {
   "cell_type": "markdown",
   "id": "15209467",
   "metadata": {},
   "source": [
    "# Programming Assignment-1\n"
   ]
  },
  {
   "cell_type": "code",
   "execution_count": 1,
   "id": "fd6a8bf3",
   "metadata": {},
   "outputs": [
    {
     "name": "stdout",
     "output_type": "stream",
     "text": [
      "hello python\n"
     ]
    }
   ],
   "source": [
    "#answer-1\n",
    "print(\"hello python\")"
   ]
  },
  {
   "cell_type": "code",
   "execution_count": 2,
   "id": "ed09ff6d",
   "metadata": {},
   "outputs": [
    {
     "name": "stdout",
     "output_type": "stream",
     "text": [
      "45\n",
      "65\n",
      "0.6923076923076923 110\n"
     ]
    }
   ],
   "source": [
    "#answer-2\n",
    "a=int(input())\n",
    "b=int(input())\n",
    "print(a/b,a+b)\n"
   ]
  },
  {
   "cell_type": "code",
   "execution_count": 3,
   "id": "5be7db29",
   "metadata": {},
   "outputs": [
    {
     "name": "stdout",
     "output_type": "stream",
     "text": [
      "45\n",
      "89\n",
      "2002.5\n"
     ]
    }
   ],
   "source": [
    "#answer-3\n",
    "h=int(input())\n",
    "b=int(input())\n",
    "area =.5*h*b\n",
    "print(area)"
   ]
  },
  {
   "cell_type": "code",
   "execution_count": 6,
   "id": "9c9ed1e6",
   "metadata": {},
   "outputs": [
    {
     "name": "stdout",
     "output_type": "stream",
     "text": [
      "45\n",
      "7\n",
      "7 45\n"
     ]
    }
   ],
   "source": [
    "#answer-4\n",
    "a=int(input())\n",
    "b=int(input())\n",
    "c=b\n",
    "b=a\n",
    "a=c\n",
    "print(a,b)"
   ]
  },
  {
   "cell_type": "code",
   "execution_count": 19,
   "id": "6b9c2654",
   "metadata": {},
   "outputs": [
    {
     "name": "stdout",
     "output_type": "stream",
     "text": [
      "8\n"
     ]
    }
   ],
   "source": [
    "#answe-5\n",
    "import random\n",
    "print(random.randint(0, 10))"
   ]
  },
  {
   "cell_type": "code",
   "execution_count": null,
   "id": "b51cd1ff",
   "metadata": {},
   "outputs": [],
   "source": []
  }
 ],
 "metadata": {
  "kernelspec": {
   "display_name": "Python 3 (ipykernel)",
   "language": "python",
   "name": "python3"
  },
  "language_info": {
   "codemirror_mode": {
    "name": "ipython",
    "version": 3
   },
   "file_extension": ".py",
   "mimetype": "text/x-python",
   "name": "python",
   "nbconvert_exporter": "python",
   "pygments_lexer": "ipython3",
   "version": "3.9.7"
  }
 },
 "nbformat": 4,
 "nbformat_minor": 5
}
