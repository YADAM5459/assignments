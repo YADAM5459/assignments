{
 "cells": [
  {
   "cell_type": "code",
   "execution_count": 8,
   "id": "589dbbec",
   "metadata": {},
   "outputs": [
    {
     "name": "stdout",
     "output_type": "stream",
     "text": [
      "enter first number14\n",
      "enter the last number :77\n"
     ]
    },
    {
     "data": {
      "text/plain": [
       "[14, 21, 28, 35, 42, 49, 56, 63, 70, 77]"
      ]
     },
     "execution_count": 8,
     "metadata": {},
     "output_type": "execute_result"
    }
   ],
   "source": [
    "#answer-1\n",
    "a=int(input(\"enter first number\"))\n",
    "b=int(input(\"enter the last number :\"))\n",
    "\n",
    "class div:\n",
    "    def __init__(s,a,b):\n",
    "        s.a=a\n",
    "        s.b=b\n",
    "    def d(e):\n",
    "        f=[]\n",
    "        for i in range(e.a,e.b+1):\n",
    "            if i%7==0:\n",
    "                f.append(i)\n",
    "            else:\n",
    "                pass\n",
    "        return f         \n",
    "s=div(a,b)\n",
    "s.d()        "
   ]
  },
  {
   "cell_type": "code",
   "execution_count": 22,
   "id": "3ff3f6be",
   "metadata": {},
   "outputs": [
    {
     "name": "stdout",
     "output_type": "stream",
     "text": [
      "enter the text:New to Python or choosing between Python 2 and Python 3? Read Python 2 or Python 3.\n",
      "choosing  =  1\n",
      "Read  =  1\n",
      "to  =  1\n",
      "Python  =  5\n",
      "and  =  1\n",
      "3.  =  1\n",
      "between  =  1\n",
      "2  =  2\n",
      "3?  =  1\n",
      "New  =  1\n",
      "or  =  2\n"
     ]
    }
   ],
   "source": [
    "#answer-2\n",
    "a=input(\"enter the text:\")\n",
    "\n",
    "def freq(a):\n",
    "    b=a.split()\n",
    "    d=list(set(b))\n",
    "    for i in range(0,len(d)):\n",
    "        c=b.count(d[i])\n",
    "        print(d[i],\" = \",c)\n",
    "        \n",
    "freq(a)    "
   ]
  },
  {
   "cell_type": "code",
   "execution_count": 19,
   "id": "9bdfd2b9",
   "metadata": {},
   "outputs": [
    {
     "data": {
      "text/plain": [
       "5"
      ]
     },
     "execution_count": 19,
     "metadata": {},
     "output_type": "execute_result"
    }
   ],
   "source": [
    "#answer-3\n",
    "class person:\n",
    "    def __init__(s,a,b):\n",
    "        "
   ]
  },
  {
   "cell_type": "code",
   "execution_count": 23,
   "id": "a387cd95",
   "metadata": {},
   "outputs": [],
   "source": [
    "#answer-4"
   ]
  },
  {
   "cell_type": "code",
   "execution_count": null,
   "id": "991aba99",
   "metadata": {},
   "outputs": [],
   "source": []
  }
 ],
 "metadata": {
  "kernelspec": {
   "display_name": "Python 3 (ipykernel)",
   "language": "python",
   "name": "python3"
  },
  "language_info": {
   "codemirror_mode": {
    "name": "ipython",
    "version": 3
   },
   "file_extension": ".py",
   "mimetype": "text/x-python",
   "name": "python",
   "nbconvert_exporter": "python",
   "pygments_lexer": "ipython3",
   "version": "3.9.7"
  }
 },
 "nbformat": 4,
 "nbformat_minor": 5
}
