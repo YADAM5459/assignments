{
 "cells": [
  {
   "cell_type": "code",
   "execution_count": 4,
   "id": "54209650",
   "metadata": {},
   "outputs": [
    {
     "data": {
      "text/plain": [
       "[2, 4, 6, 7, 8, 96]"
      ]
     },
     "execution_count": 4,
     "metadata": {},
     "output_type": "execute_result"
    }
   ],
   "source": [
    "#answer-1\n",
    "def func(a,b):\n",
    "    a.append(b)\n",
    "    del a[0]\n",
    "    return a\n",
    "func([1,2,4,6,7,8],96)    "
   ]
  },
  {
   "cell_type": "code",
   "execution_count": 5,
   "id": "d0e14692",
   "metadata": {},
   "outputs": [],
   "source": [
    "#answer-2"
   ]
  },
  {
   "cell_type": "code",
   "execution_count": 7,
   "id": "47c8f214",
   "metadata": {},
   "outputs": [
    {
     "name": "stdout",
     "output_type": "stream",
     "text": [
      "world\n",
      "dlorw\n"
     ]
    }
   ],
   "source": [
    "#answer-3\n",
    "def alpha():\n",
    "    a= input()\n",
    "    b=[]\n",
    "    for i in a:\n",
    "        b.append(i)\n",
    "    b.sort()  \n",
    "    print(\"\".join(b))\n",
    "alpha()"
   ]
  },
  {
   "cell_type": "code",
   "execution_count": 11,
   "id": "a5073fdf",
   "metadata": {},
   "outputs": [
    {
     "data": {
      "text/plain": [
       "[9, 2, 16]"
      ]
     },
     "execution_count": 11,
     "metadata": {},
     "output_type": "execute_result"
    }
   ],
   "source": [
    "#answer-5\n",
    "def returnint(b):\n",
    "    a=[]\n",
    "    for i in b:\n",
    "        if type(i)==int:\n",
    "            a.append(i)\n",
    "    return a        \n",
    "returnint([9, 2,\"gun\",\"fun\",\"god\", 16])"
   ]
  }
 ],
 "metadata": {
  "kernelspec": {
   "display_name": "Python 3 (ipykernel)",
   "language": "python",
   "name": "python3"
  },
  "language_info": {
   "codemirror_mode": {
    "name": "ipython",
    "version": 3
   },
   "file_extension": ".py",
   "mimetype": "text/x-python",
   "name": "python",
   "nbconvert_exporter": "python",
   "pygments_lexer": "ipython3",
   "version": "3.9.7"
  }
 },
 "nbformat": 4,
 "nbformat_minor": 5
}
