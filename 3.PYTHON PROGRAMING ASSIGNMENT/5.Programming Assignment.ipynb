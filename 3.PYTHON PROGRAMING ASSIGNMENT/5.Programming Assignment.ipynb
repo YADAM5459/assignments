{
 "cells": [
  {
   "cell_type": "code",
   "execution_count": 2,
   "id": "42033710",
   "metadata": {},
   "outputs": [
    {
     "name": "stdout",
     "output_type": "stream",
     "text": [
      "enter a num 1 12\n",
      "enter a num 2 15\n"
     ]
    }
   ],
   "source": [
    "#answer-1\n",
    "a=int(input(\"enter a num 1 \"))\n",
    "b=int(input(\"enter a num 2 \"))\n",
    "if a > b:\n",
    "       c = a\n",
    "else:\n",
    "       c = b\n",
    "\n",
    "while(True):\n",
    "    if((c % a == 0) and (c % b == 0)):\n",
    "        lcm = c\n",
    "        break\n",
    "        c=c+1\n",
    "\n",
    "print(lcm)"
   ]
  },
  {
   "cell_type": "code",
   "execution_count": null,
   "id": "8ab49c14",
   "metadata": {},
   "outputs": [],
   "source": [
    "#answer-2\n"
   ]
  }
 ],
 "metadata": {
  "kernelspec": {
   "display_name": "Python 3 (ipykernel)",
   "language": "python",
   "name": "python3"
  },
  "language_info": {
   "codemirror_mode": {
    "name": "ipython",
    "version": 3
   },
   "file_extension": ".py",
   "mimetype": "text/x-python",
   "name": "python",
   "nbconvert_exporter": "python",
   "pygments_lexer": "ipython3",
   "version": "3.9.7"
  }
 },
 "nbformat": 4,
 "nbformat_minor": 5
}
