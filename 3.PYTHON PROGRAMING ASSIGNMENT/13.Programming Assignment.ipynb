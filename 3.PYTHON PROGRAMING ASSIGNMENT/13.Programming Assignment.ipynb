{
 "cells": [
  {
   "cell_type": "code",
   "execution_count": 2,
   "id": "4a00b17e",
   "metadata": {},
   "outputs": [
    {
     "name": "stdout",
     "output_type": "stream",
     "text": [
      "enter45\n",
      "150.0\n"
     ]
    }
   ],
   "source": [
    "#answer-1\n",
    "c=50\n",
    "h=30\n",
    "d=int(input(\"enter \"))\n",
    "q=((2*c*d)/h)\n",
    "print(q)"
   ]
  },
  {
   "cell_type": "code",
   "execution_count": 7,
   "id": "af291745",
   "metadata": {},
   "outputs": [
    {
     "name": "stdout",
     "output_type": "stream",
     "text": [
      "enter x : 3\n",
      "enter y : 5\n"
     ]
    },
    {
     "data": {
      "text/plain": [
       "[[0, 0, 0, 0, 0], [0, 1, 2, 3, 4], [0, 2, 4, 6, 8]]"
      ]
     },
     "execution_count": 7,
     "metadata": {},
     "output_type": "execute_result"
    }
   ],
   "source": [
    "#answer-2\n",
    "x=int(input(\"enter x : \"))\n",
    "y=int(input(\"enter y : \"))\n",
    "a=[]\n",
    "for i in range(0,x):\n",
    "    b=[]\n",
    "    a.append(b)\n",
    "    for j in range(0,y):\n",
    "        b.append((i)*(j))\n",
    "a        "
   ]
  },
  {
   "cell_type": "code",
   "execution_count": 15,
   "id": "7761dff0",
   "metadata": {},
   "outputs": [
    {
     "name": "stdout",
     "output_type": "stream",
     "text": [
      "enter the coma sequence\n",
      "without,hello,bag,world\n",
      "bag,hello,without,world\n"
     ]
    }
   ],
   "source": [
    "#answer-3\n",
    "print(\"enter the coma sequence\")\n",
    "s=input()\n",
    "r=s.split(\",\")\n",
    "r.sort()\n",
    "print(\",\".join(r))\n",
    "\n",
    "\n"
   ]
  },
  {
   "cell_type": "code",
   "execution_count": 24,
   "id": "53339ebb",
   "metadata": {},
   "outputs": [
    {
     "name": "stdout",
     "output_type": "stream",
     "text": [
      "hello world and practice makes perfect and hello world again\n",
      "again and hello makes perfect practice world\n"
     ]
    }
   ],
   "source": [
    "e=input()\n",
    "c=set(e.split())\n",
    "d=list(c)\n",
    "d.sort()\n",
    "print(\" \".join(d))"
   ]
  },
  {
   "cell_type": "code",
   "execution_count": 30,
   "id": "cc089164",
   "metadata": {},
   "outputs": [
    {
     "name": "stdout",
     "output_type": "stream",
     "text": [
      "Write a program that accepts a\n",
      "25 0\n"
     ]
    }
   ],
   "source": [
    "#answer-5\n",
    "a=input()\n",
    "c=0\n",
    "d=0\n",
    "for i in a:\n",
    "    if i.isdigit():\n",
    "        d=d+1\n",
    "    elif i.isalpha():\n",
    "        c=c+1\n",
    "    else:\n",
    "        pass \n",
    "print(c,d)        \n",
    "        \n"
   ]
  },
  {
   "cell_type": "code",
   "execution_count": 34,
   "id": "ee112f06",
   "metadata": {},
   "outputs": [
    {
     "name": "stdout",
     "output_type": "stream",
     "text": [
      "Input your passwordMani@5459\n",
      "Valid Password\n"
     ]
    }
   ],
   "source": [
    "#answer-6\n",
    "import re\n",
    "p= input(\"Input your password\")\n",
    "x=True\n",
    "while x:  \n",
    "    if (len(p)<6 or len(p)>12):\n",
    "        break\n",
    "    elif not re.search(\"[a-z]\",p):\n",
    "        break\n",
    "    elif not re.search(\"[0-9]\",p):\n",
    "        break\n",
    "    elif not re.search(\"[A-Z]\",p):\n",
    "        break\n",
    "    elif not re.search(\"[$#@]\",p):\n",
    "        break\n",
    "    elif re.search(\"\\s\",p):\n",
    "        break\n",
    "    else:\n",
    "        print(\"Valid Password\")\n",
    "        x=False\n",
    "        break\n",
    "\n",
    "if x:\n",
    "    print(\"Not a Valid Password\")\n"
   ]
  }
 ],
 "metadata": {
  "kernelspec": {
   "display_name": "Python 3 (ipykernel)",
   "language": "python",
   "name": "python3"
  },
  "language_info": {
   "codemirror_mode": {
    "name": "ipython",
    "version": 3
   },
   "file_extension": ".py",
   "mimetype": "text/x-python",
   "name": "python",
   "nbconvert_exporter": "python",
   "pygments_lexer": "ipython3",
   "version": "3.9.7"
  }
 },
 "nbformat": 4,
 "nbformat_minor": 5
}
