{
 "cells": [
  {
   "cell_type": "code",
   "execution_count": 17,
   "id": "26320de7",
   "metadata": {},
   "outputs": [
    {
     "name": "stdout",
     "output_type": "stream",
     "text": [
      "enter 1 number :\n",
      "45\n",
      "enter 2 number :\n",
      "12\n",
      "enter 3 number :\n",
      "14\n",
      "enter 4 number :\n",
      "51\n",
      "enter 5 number :\n",
      "13\n",
      "total sum is equal to 135\n",
      "multiplication result is 5012280\n",
      "minimum number is 12\n",
      "maximum number is 51\n",
      "even numbers are [12, 14]\n",
      "odd numbers are [45, 51, 13]\n",
      "coiped numbers are [45, 12, 14, 51, 13]\n",
      "45 = 1\n",
      "12 = 1\n",
      "14 = 1\n",
      "51 = 1\n",
      "13 = 1\n"
     ]
    }
   ],
   "source": [
    "a=[]\n",
    "for i in range(1,6):\n",
    "    print(\"enter\",i,\"number :\")\n",
    "    a.append(int(input()))\n",
    "#answer-1    \n",
    "print(\"total sum is equal to\",sum(a))\n",
    "#answer-2\n",
    "mul=a[0]*a[1]*a[2]*a[3]*a[4]\n",
    "print(\"multiplication result is\" ,mul)\n",
    "#answer-3\n",
    "print(\"minimum number is\",min(a))\n",
    "#answer-4\n",
    "print(\"maximum number is\",max(a))\n",
    "#answer-7\n",
    "even=[]\n",
    "for i in range(0,len(a)):\n",
    "    if a[i]%2==0:\n",
    "        even.append(a[i])\n",
    "print(\"even numbers are\",even)\n",
    "#answer-8\n",
    "odd=[]\n",
    "for i in range(0,len(a)):\n",
    "    if a[i]%2!=0:\n",
    "        odd.append(a[i])\n",
    "print(\"odd numbers are\",odd)\n",
    "#answer-10\n",
    "c=a.copy()\n",
    "print(\"coiped numbers are\",c)\n",
    "#answer-11\n",
    "u=a.count(a[0])\n",
    "print(a[0],\"=\",u)\n",
    "v=a.count(a[1])\n",
    "print(a[1],\"=\",v)\n",
    "x=a.count(a[2])\n",
    "print(a[2],\"=\",x)\n",
    "y=a.count(a[3])\n",
    "print(a[3],\"=\",y)\n",
    "z=a.count(a[4])\n",
    "print(a[4],\"=\",z)"
   ]
  },
  {
   "cell_type": "code",
   "execution_count": 9,
   "id": "997ede91",
   "metadata": {},
   "outputs": [
    {
     "name": "stdout",
     "output_type": "stream",
     "text": [
      "enter num5\n",
      "enter num2\n",
      "enter num44\n",
      "enter num3\n",
      "enter num89\n",
      "44 is the 2nd largest in  [2, 3, 5, 44, 89]\n"
     ]
    }
   ],
   "source": [
    "#answer-5\n",
    "a=[]\n",
    "for i in range(0,5):\n",
    "    g=input(\"enter num\")\n",
    "    a.append(int(g))\n",
    "a.sort()\n",
    "print(a[-2],\"is the 2nd largest in \",a)"
   ]
  },
  {
   "cell_type": "code",
   "execution_count": 18,
   "id": "d55b46cc",
   "metadata": {},
   "outputs": [
    {
     "name": "stdout",
     "output_type": "stream",
     "text": [
      "enter num45\n",
      "enter num78\n",
      "enter num12\n",
      "enter num99\n",
      "enter num99\n",
      "99 is the largest number and num of times repeated 2 from [12, 45, 78, 99, 99]\n"
     ]
    }
   ],
   "source": [
    "#answer-6\n",
    "z=[]\n",
    "for i in range(0,5):\n",
    "    g=input(\"enter num\")\n",
    "    z.append(int(g))\n",
    "z.sort()\n",
    "print(z[-1],\"is the largest number and num of times repeated\",z.count(z[-1]),\"from\",z)"
   ]
  },
  {
   "cell_type": "code",
   "execution_count": 16,
   "id": "6d141330",
   "metadata": {},
   "outputs": [
    {
     "name": "stdout",
     "output_type": "stream",
     "text": [
      "[[1, 21, 1, 5, 6], [1, 'sad', 'you']]\n"
     ]
    }
   ],
   "source": [
    "#answer-9\n",
    "p=[[1,21,1,5,6],[],[1,\"sad\",\"you\"]]\n",
    "b=[]\n",
    "for i in p:\n",
    "    if len(i)!=0:\n",
    "        b.append(i)\n",
    "print(b)        \n",
    "        "
   ]
  }
 ],
 "metadata": {
  "kernelspec": {
   "display_name": "Python 3 (ipykernel)",
   "language": "python",
   "name": "python3"
  },
  "language_info": {
   "codemirror_mode": {
    "name": "ipython",
    "version": 3
   },
   "file_extension": ".py",
   "mimetype": "text/x-python",
   "name": "python",
   "nbconvert_exporter": "python",
   "pygments_lexer": "ipython3",
   "version": "3.9.7"
  }
 },
 "nbformat": 4,
 "nbformat_minor": 5
}
