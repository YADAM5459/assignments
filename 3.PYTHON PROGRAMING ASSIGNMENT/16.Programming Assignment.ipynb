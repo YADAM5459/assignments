{
 "cells": [
  {
   "cell_type": "code",
   "execution_count": 28,
   "id": "be421454",
   "metadata": {},
   "outputs": [
    {
     "name": "stdout",
     "output_type": "stream",
     "text": [
      "increadble\n"
     ]
    },
    {
     "data": {
      "text/plain": [
       "'stutter(\"increadble\")  ➞ \"in... in... increadble ?\"'"
      ]
     },
     "execution_count": 28,
     "metadata": {},
     "output_type": "execute_result"
    }
   ],
   "source": [
    "#answer-1\n",
    "def st(a):\n",
    "    a=input()\n",
    "    c=\"stutter\"+ '(\"' +a+ '\")  ➞'+' \"'+ a[0]+a[1]+\"... \"+a[0]+a[1]+\"... \"+a+\" ?\"+'\"'\n",
    "    return c\n",
    " \n",
    "st(a)\n",
    "        "
   ]
  },
  {
   "cell_type": "code",
   "execution_count": 29,
   "id": "befaba08",
   "metadata": {},
   "outputs": [
    {
     "name": "stdout",
     "output_type": "stream",
     "text": [
      "45\n"
     ]
    },
    {
     "data": {
      "text/plain": [
       "2578.311"
      ]
     },
     "execution_count": 29,
     "metadata": {},
     "output_type": "execute_result"
    }
   ],
   "source": [
    "#answer-2\n",
    "def rad():\n",
    "    radians=int(input())\n",
    "    degrees=radians*57.2958\n",
    "    return degrees\n",
    "rad()"
   ]
  },
  {
   "cell_type": "code",
   "execution_count": 34,
   "id": "811b80b7",
   "metadata": {},
   "outputs": [
    {
     "name": "stdout",
     "output_type": "stream",
     "text": [
      "5\n"
     ]
    },
    {
     "data": {
      "text/plain": [
       "True"
      ]
     },
     "execution_count": 34,
     "metadata": {},
     "output_type": "execute_result"
    }
   ],
   "source": [
    "#answer-3\n",
    "def cruzon():\n",
    "    i=int(input())\n",
    "    c=2**i+1\n",
    "    d=2*i+1\n",
    "    if c%d==0:\n",
    "        return True\n",
    "    else :\n",
    "        return False\n",
    "cruzon()"
   ]
  },
  {
   "cell_type": "code",
   "execution_count": 36,
   "id": "ced3c7fe",
   "metadata": {},
   "outputs": [
    {
     "name": "stdout",
     "output_type": "stream",
     "text": [
      "5\n"
     ]
    },
    {
     "data": {
      "text/plain": [
       "64.9519052838329"
      ]
     },
     "execution_count": 36,
     "metadata": {},
     "output_type": "execute_result"
    }
   ],
   "source": [
    "#answer-4\n",
    "def area():\n",
    "    s=int(input())\n",
    "    f=(3*3**.5*s**2)/2\n",
    "    return f\n",
    "area()"
   ]
  },
  {
   "cell_type": "code",
   "execution_count": 44,
   "id": "ba27224a",
   "metadata": {},
   "outputs": [
    {
     "name": "stdout",
     "output_type": "stream",
     "text": [
      "010101001\n"
     ]
    },
    {
     "data": {
      "text/plain": [
       "169"
      ]
     },
     "execution_count": 44,
     "metadata": {},
     "output_type": "execute_result"
    }
   ],
   "source": [
    "#answer-5\n",
    "def bi():\n",
    "    a=int(input())\n",
    "    c=[]\n",
    "    d=0\n",
    "    while a>0:\n",
    "        b=a%10\n",
    "        c.append(b)\n",
    "        a//=10\n",
    "        \n",
    "    for i in range(len(c)):\n",
    "        d=c[i]*(int(2)**i)+d\n",
    "    return d    \n",
    "bi()       \n",
    "        "
   ]
  }
 ],
 "metadata": {
  "kernelspec": {
   "display_name": "Python 3 (ipykernel)",
   "language": "python",
   "name": "python3"
  },
  "language_info": {
   "codemirror_mode": {
    "name": "ipython",
    "version": 3
   },
   "file_extension": ".py",
   "mimetype": "text/x-python",
   "name": "python",
   "nbconvert_exporter": "python",
   "pygments_lexer": "ipython3",
   "version": "3.9.7"
  }
 },
 "nbformat": 4,
 "nbformat_minor": 5
}
