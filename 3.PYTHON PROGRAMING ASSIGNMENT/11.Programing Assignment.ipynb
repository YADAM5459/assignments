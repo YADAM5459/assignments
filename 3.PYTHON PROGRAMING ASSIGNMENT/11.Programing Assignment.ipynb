{
 "cells": [
  {
   "cell_type": "code",
   "execution_count": 9,
   "id": "f441d2f6",
   "metadata": {},
   "outputs": [
    {
     "name": "stdout",
     "output_type": "stream",
     "text": [
      "6\n",
      "Education\n",
      "powerful\n"
     ]
    }
   ],
   "source": [
    "#answer-1\n",
    "a=int(input())\n",
    "b=\"Education is the most powerful weapon which you can use to change the world\"\n",
    "c=b.split()\n",
    "d=[]\n",
    "len(c)\n",
    "for i in range(0,len(c)):\n",
    "    if len(c[i])>a:\n",
    "        d.append(c[i])\n",
    "        print(c[i])        \n",
    "    "
   ]
  },
  {
   "cell_type": "code",
   "execution_count": 15,
   "id": "e5ff10fb",
   "metadata": {},
   "outputs": [
    {
     "name": "stdout",
     "output_type": "stream",
     "text": [
      "enter i-th character you want to remove from th string?5\n",
      "['Education', 'is', 'the', 'most', 'weapon', 'which', 'you', 'can', 'use', 'to', 'change', 'the', 'world']\n"
     ]
    }
   ],
   "source": [
    "#answer-2\n",
    "a=int(input(\"enter i-th character you want to remove from th string?\"))\n",
    "b=\"Education is the most powerful weapon which you can use to change the world\"\n",
    "c=b.split()\n",
    "del c[a-1]\n",
    "print(c)\n"
   ]
  },
  {
   "cell_type": "code",
   "execution_count": 32,
   "id": "461ddd3d",
   "metadata": {},
   "outputs": [
    {
     "data": {
      "text/plain": [
       "'Educationisthemostpowerfulweaponwhichyoucanusetochangetheworld'"
      ]
     },
     "execution_count": 32,
     "metadata": {},
     "output_type": "execute_result"
    }
   ],
   "source": [
    "#answer-3\n",
    "b=\"Education is the most powerful weapon which you can use to change the world\"\n",
    "c=b.split()\n",
    "j=str()\n",
    "for i in range(0,len(c)):\n",
    "    j=j+c[i]\n",
    "j"
   ]
  },
  {
   "cell_type": "code",
   "execution_count": 5,
   "id": "1613a9bd",
   "metadata": {},
   "outputs": [
    {
     "name": "stdout",
     "output_type": "stream",
     "text": [
      "enter a string : fuovh\n",
      "No\n"
     ]
    }
   ],
   "source": [
    "#answer-4\n",
    "a=input(\"enter a string : \")\n",
    "b= set(a)\n",
    "c={'0','1'}\n",
    "if b == c or b == {'0'} or b == {'1'}:\n",
    "    print(\"Yes\")\n",
    "else :\n",
    "    print(\"No\")"
   ]
  },
  {
   "cell_type": "code",
   "execution_count": 16,
   "id": "a93a4ea8",
   "metadata": {},
   "outputs": [
    {
     "data": {
      "text/plain": [
       "{'Education',\n",
       " \"Education's\",\n",
       " 'an',\n",
       " 'can',\n",
       " 'change',\n",
       " 'empty',\n",
       " 'mind',\n",
       " 'most',\n",
       " 'one',\n",
       " 'open',\n",
       " 'powerful',\n",
       " 'purpose',\n",
       " 'replace',\n",
       " 'the',\n",
       " 'use',\n",
       " 'weapon',\n",
       " 'which',\n",
       " 'with',\n",
       " 'world',\n",
       " 'you'}"
      ]
     },
     "execution_count": 16,
     "metadata": {},
     "output_type": "execute_result"
    }
   ],
   "source": [
    "#answer-5\n",
    "a=\"Education's purpose is to replace an empty mind with an open one\"\n",
    "b=\"Education is the most powerful weapon which you can use to change the world\"\n",
    "c=set(a.split())\n",
    "d=set(b.split())\n",
    "(c-d).union(d-c)"
   ]
  },
  {
   "cell_type": "code",
   "execution_count": 19,
   "id": "a108f384",
   "metadata": {},
   "outputs": [
    {
     "ename": "ValueError",
     "evalue": "dictionary update sequence element #0 has length 8; 2 is required",
     "output_type": "error",
     "traceback": [
      "\u001b[1;31m---------------------------------------------------------------------------\u001b[0m",
      "\u001b[1;31mValueError\u001b[0m                                Traceback (most recent call last)",
      "\u001b[1;32m~\\AppData\\Local\\Temp/ipykernel_16600/4002778405.py\u001b[0m in \u001b[0;36m<module>\u001b[1;34m\u001b[0m\n\u001b[0;32m      2\u001b[0m \u001b[0ma\u001b[0m\u001b[1;33m=\u001b[0m\u001b[1;33m[\u001b[0m\u001b[1;33m]\u001b[0m\u001b[1;33m\u001b[0m\u001b[1;33m\u001b[0m\u001b[0m\n\u001b[0;32m      3\u001b[0m \u001b[0mb\u001b[0m\u001b[1;33m=\u001b[0m\u001b[1;34m\"Education is the most powerful weapon which you can use to change the world\"\u001b[0m\u001b[1;33m\u001b[0m\u001b[1;33m\u001b[0m\u001b[0m\n\u001b[1;32m----> 4\u001b[1;33m \u001b[0mc\u001b[0m\u001b[1;33m=\u001b[0m\u001b[0mdict\u001b[0m\u001b[1;33m(\u001b[0m\u001b[0mset\u001b[0m\u001b[1;33m(\u001b[0m\u001b[0mb\u001b[0m\u001b[1;33m.\u001b[0m\u001b[0msplit\u001b[0m\u001b[1;33m(\u001b[0m\u001b[1;33m)\u001b[0m\u001b[1;33m)\u001b[0m\u001b[1;33m)\u001b[0m\u001b[1;33m\u001b[0m\u001b[1;33m\u001b[0m\u001b[0m\n\u001b[0m\u001b[0;32m      5\u001b[0m \u001b[0md\u001b[0m\u001b[1;33m=\u001b[0m\u001b[0mdict\u001b[0m\u001b[1;33m(\u001b[0m\u001b[0mb\u001b[0m\u001b[1;33m.\u001b[0m\u001b[0msplit\u001b[0m\u001b[1;33m(\u001b[0m\u001b[1;33m)\u001b[0m\u001b[1;33m)\u001b[0m\u001b[1;33m\u001b[0m\u001b[1;33m\u001b[0m\u001b[0m\n\u001b[0;32m      6\u001b[0m \u001b[0mc\u001b[0m\u001b[1;33m-\u001b[0m\u001b[0md\u001b[0m\u001b[1;33m\u001b[0m\u001b[1;33m\u001b[0m\u001b[0m\n",
      "\u001b[1;31mValueError\u001b[0m: dictionary update sequence element #0 has length 8; 2 is required"
     ]
    }
   ],
   "source": [
    "#answer-6\n",
    "a=[]\n",
    "b=\"Education is the most powerful weapon which you can use to change the world\"\n",
    "c=set(b.split())\n",
    "d=b.split()\n",
    "\n"
   ]
  },
  {
   "cell_type": "code",
   "execution_count": 28,
   "id": "f849ecc8",
   "metadata": {},
   "outputs": [
    {
     "name": "stdout",
     "output_type": "stream",
     "text": [
      "no\n"
     ]
    }
   ],
   "source": [
    "#answer-7\n",
    "a=set(\"[@_!#$%^&*()<>?/|}{~:]\")\n",
    "b=\"Education is the most powerful weapon which you can use to change the world\"\n",
    "c=set(b)\n",
    "if a-c == a:\n",
    "    print(\"no\")\n",
    "else:\n",
    "    print(\"yes\")"
   ]
  },
  {
   "cell_type": "code",
   "execution_count": null,
   "id": "a8fdc84f",
   "metadata": {},
   "outputs": [],
   "source": []
  }
 ],
 "metadata": {
  "kernelspec": {
   "display_name": "Python 3 (ipykernel)",
   "language": "python",
   "name": "python3"
  },
  "language_info": {
   "codemirror_mode": {
    "name": "ipython",
    "version": 3
   },
   "file_extension": ".py",
   "mimetype": "text/x-python",
   "name": "python",
   "nbconvert_exporter": "python",
   "pygments_lexer": "ipython3",
   "version": "3.9.7"
  }
 },
 "nbformat": 4,
 "nbformat_minor": 5
}
