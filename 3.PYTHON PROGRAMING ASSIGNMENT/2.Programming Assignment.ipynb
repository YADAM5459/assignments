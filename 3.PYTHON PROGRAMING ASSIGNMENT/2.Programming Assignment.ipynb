{
 "cells": [
  {
   "cell_type": "markdown",
   "id": "5e3f6011",
   "metadata": {},
   "source": [
    "# Programming Assignment-2\n"
   ]
  },
  {
   "cell_type": "code",
   "execution_count": 6,
   "id": "8ae08cda",
   "metadata": {},
   "outputs": [
    {
     "name": "stdout",
     "output_type": "stream",
     "text": [
      "45\n",
      "miles 72.4203\n"
     ]
    }
   ],
   "source": [
    "#answer-1\n",
    "km= int(input())\n",
    "mile=km*1.60934\n",
    "print(\"miles\",mile)\n",
    "\n"
   ]
  },
  {
   "cell_type": "code",
   "execution_count": 7,
   "id": "d909449d",
   "metadata": {},
   "outputs": [
    {
     "name": "stdout",
     "output_type": "stream",
     "text": [
      "45\n",
      "celicus 81.0\n"
     ]
    }
   ],
   "source": [
    "#answer-2\n",
    "f=int(input())\n",
    "c=1.8*f\n",
    "print('celicus',c)"
   ]
  },
  {
   "cell_type": "code",
   "execution_count": 12,
   "id": "73e9fa40",
   "metadata": {},
   "outputs": [
    {
     "name": "stdout",
     "output_type": "stream",
     "text": [
      "Enter year: 2222\n",
      "Enter month: 5\n",
      "      May 2222\n",
      "Mo Tu We Th Fr Sa Su\n",
      "       1  2  3  4  5\n",
      " 6  7  8  9 10 11 12\n",
      "13 14 15 16 17 18 19\n",
      "20 21 22 23 24 25 26\n",
      "27 28 29 30 31\n",
      "\n"
     ]
    }
   ],
   "source": [
    "#answer-3\n",
    "import calendar\n",
    "y = int(input(\"Enter year: \"))\n",
    "m = int(input(\"Enter month: \"))\n",
    "print(calendar.month(y,m))"
   ]
  },
  {
   "cell_type": "code",
   "execution_count": 18,
   "id": "e1a2242a",
   "metadata": {},
   "outputs": [
    {
     "name": "stdout",
     "output_type": "stream",
     "text": [
      "enter a :1\n",
      "enter b :-5\n",
      "enter c :6\n",
      "roots 3.0 2.0\n"
     ]
    }
   ],
   "source": [
    "#answer-4\n",
    "a=int(input(\"enter a :\"))\n",
    "b=int(input(\"enter b :\"))\n",
    "c=int(input(\"enter c :\"))\n",
    "x1=.5*(-b+(b*b-4*a*c)**.5)\n",
    "x2=.5*(-b-(b*b-4*a*c)**.5)\n",
    "print(\"roots\",x1,x2)"
   ]
  },
  {
   "cell_type": "code",
   "execution_count": 20,
   "id": "4e2c3287",
   "metadata": {},
   "outputs": [
    {
     "name": "stdout",
     "output_type": "stream",
     "text": [
      "enter a :god\n",
      "enter b :dog\n",
      "a : dog b : god\n"
     ]
    }
   ],
   "source": [
    "#answer-5\n",
    "a=str(input(\"enter a :\"))\n",
    "b=str(input(\"enter b :\"))\n",
    "a,b=b,a\n",
    "print(\"a :\",a,\"b :\",b)"
   ]
  }
 ],
 "metadata": {
  "kernelspec": {
   "display_name": "Python 3 (ipykernel)",
   "language": "python",
   "name": "python3"
  },
  "language_info": {
   "codemirror_mode": {
    "name": "ipython",
    "version": 3
   },
   "file_extension": ".py",
   "mimetype": "text/x-python",
   "name": "python",
   "nbconvert_exporter": "python",
   "pygments_lexer": "ipython3",
   "version": "3.9.7"
  }
 },
 "nbformat": 4,
 "nbformat_minor": 5
}
