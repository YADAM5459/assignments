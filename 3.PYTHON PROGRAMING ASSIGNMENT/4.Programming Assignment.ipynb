{
 "cells": [
  {
   "cell_type": "code",
   "execution_count": 4,
   "id": "d8709aff",
   "metadata": {},
   "outputs": [
    {
     "name": "stdout",
     "output_type": "stream",
     "text": [
      "enter a num 5\n"
     ]
    },
    {
     "data": {
      "text/plain": [
       "120"
      ]
     },
     "execution_count": 4,
     "metadata": {},
     "output_type": "execute_result"
    }
   ],
   "source": [
    "#answer-1\n",
    "a=int(input(\"enter a num \"))\n",
    "f=1\n",
    "while a>1:\n",
    "    f=f*a\n",
    "    a=a-1\n",
    "f       "
   ]
  },
  {
   "cell_type": "code",
   "execution_count": 5,
   "id": "abdfce09",
   "metadata": {},
   "outputs": [
    {
     "name": "stdout",
     "output_type": "stream",
     "text": [
      "enter a num 12\n",
      "12 * 1 = 12\n",
      "12 * 2 = 24\n",
      "12 * 3 = 36\n",
      "12 * 4 = 48\n",
      "12 * 5 = 60\n",
      "12 * 6 = 72\n",
      "12 * 7 = 84\n",
      "12 * 8 = 96\n",
      "12 * 9 = 108\n",
      "12 * 10 = 120\n"
     ]
    }
   ],
   "source": [
    "#answer-2\n",
    "a=int(input(\"enter a num \"))\n",
    "for i in range(1,11):\n",
    "    print(a,\"*\",i,\"=\",a*i)"
   ]
  },
  {
   "cell_type": "code",
   "execution_count": 9,
   "id": "ef5e7582",
   "metadata": {},
   "outputs": [
    {
     "name": "stdout",
     "output_type": "stream",
     "text": [
      "enter a num 14\n",
      "1\n",
      "2\n",
      "3\n",
      "5\n",
      "8\n",
      "13\n",
      "21\n",
      "34\n",
      "55\n",
      "89\n",
      "144\n",
      "233\n",
      "377\n",
      "610\n",
      "987\n"
     ]
    }
   ],
   "source": [
    "#answer-3\n",
    "a=int(input(\"enter a num \"))\n",
    "b=0\n",
    "c=1\n",
    "for i in range(0,a+1):\n",
    "    d=c+b\n",
    "    b=c\n",
    "    c=d\n",
    "    print (c)    "
   ]
  },
  {
   "cell_type": "code",
   "execution_count": null,
   "id": "4840a144",
   "metadata": {},
   "outputs": [],
   "source": [
    "#answer-4\n",
    "a=int(input(\"enter a num \"))\n",
    "s = 0\n",
    "y=a\n",
    "while a > 0:\n",
    "    f = a % 10\n",
    "    s = f**3+s\n",
    "    a //= 10\n",
    "if y==s:\n",
    "    print(\"it is an armstrong number\",s)\n",
    "else:\n",
    "    print(\"not an armstrong number\")\n"
   ]
  },
  {
   "cell_type": "code",
   "execution_count": 1,
   "id": "32cd9b8e",
   "metadata": {},
   "outputs": [
    {
     "name": "stdout",
     "output_type": "stream",
     "text": [
      "enter a num 1 14\n",
      "enter a num 2 1234556\n",
      "153\n",
      "370\n",
      "371\n",
      "407\n",
      "1634\n",
      "8208\n",
      "9474\n",
      "54748\n",
      "92727\n",
      "93084\n",
      "548834\n"
     ]
    }
   ],
   "source": [
    "#answer-5\n",
    "a=int(input(\"enter a num 1 \"))\n",
    "b=int(input(\"enter a num 2 \"))\n",
    "s = 0\n",
    "for i in range(a,b+1):\n",
    "   s = 0\n",
    "   p=len(str(i))\n",
    "   t = i\n",
    "   while t > 0:\n",
    "       f = t % 10\n",
    "       s =s+ f ** p\n",
    "       t //= 10\n",
    "\n",
    "   if i == s:\n",
    "       print(i)"
   ]
  },
  {
   "cell_type": "code",
   "execution_count": 10,
   "id": "462c61d9",
   "metadata": {},
   "outputs": [
    {
     "name": "stdout",
     "output_type": "stream",
     "text": [
      "enter a num 12\n",
      "78\n"
     ]
    }
   ],
   "source": [
    "#answer-6\n",
    "a=int(input(\"enter a num \"))\n",
    "f=0\n",
    "for i in range(0,a+1):\n",
    "    f=f+i\n",
    "print (f)    "
   ]
  },
  {
   "cell_type": "code",
   "execution_count": null,
   "id": "8e6bfd06",
   "metadata": {},
   "outputs": [],
   "source": []
  }
 ],
 "metadata": {
  "kernelspec": {
   "display_name": "Python 3 (ipykernel)",
   "language": "python",
   "name": "python3"
  },
  "language_info": {
   "codemirror_mode": {
    "name": "ipython",
    "version": 3
   },
   "file_extension": ".py",
   "mimetype": "text/x-python",
   "name": "python",
   "nbconvert_exporter": "python",
   "pygments_lexer": "ipython3",
   "version": "3.9.7"
  }
 },
 "nbformat": 4,
 "nbformat_minor": 5
}
