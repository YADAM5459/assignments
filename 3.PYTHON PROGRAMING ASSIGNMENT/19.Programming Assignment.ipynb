{
 "cells": [
  {
   "cell_type": "code",
   "execution_count": 10,
   "id": "3d629e51",
   "metadata": {},
   "outputs": [
    {
     "name": "stdout",
     "output_type": "stream",
     "text": [
      "hot\n",
      "\" hhoott \"\n"
     ]
    }
   ],
   "source": [
    "#answer-1\n",
    "def rep():\n",
    "    a=str(input())\n",
    "    b=[]\n",
    "    for i in a:\n",
    "        b.append(i)\n",
    "        b.append(i)\n",
    "    print('\"',\"\".join(b),'\"')    \n",
    "rep()\n",
    "        "
   ]
  },
  {
   "cell_type": "code",
   "execution_count": 14,
   "id": "ff2746d2",
   "metadata": {},
   "outputs": [
    {
     "name": "stdout",
     "output_type": "stream",
     "text": [
      "fun\n"
     ]
    },
    {
     "data": {
      "text/plain": [
       "'boolean expected'"
      ]
     },
     "execution_count": 14,
     "metadata": {},
     "output_type": "execute_result"
    }
   ],
   "source": [
    "#answer-2\n",
    "def bol():\n",
    "    a=input()\n",
    "    if a==\"True\":\n",
    "        return False\n",
    "    elif a==\"False\":\n",
    "        return True\n",
    "    else:\n",
    "        return \"boolean expected\"\n",
    "bol()    \n",
    "    \n",
    "    "
   ]
  },
  {
   "cell_type": "code",
   "execution_count": 19,
   "id": "c6e46151",
   "metadata": {},
   "outputs": [
    {
     "name": "stdout",
     "output_type": "stream",
     "text": [
      "enter number times folded4\n",
      "\" 0.008 mm \"\n"
     ]
    }
   ],
   "source": [
    "#answer-3\n",
    "def thick():\n",
    "    t=.5\n",
    "    a=int(input(\"enter number times folded\"))\n",
    "    c= t*2**a*.001\n",
    "    print('\"',c,'mm \"')\n",
    "thick()\n",
    "    "
   ]
  },
  {
   "cell_type": "code",
   "execution_count": 3,
   "id": "4041c95b",
   "metadata": {},
   "outputs": [
    {
     "name": "stdout",
     "output_type": "stream",
     "text": [
      "YadAm\n"
     ]
    },
    {
     "data": {
      "text/plain": [
       "[0, 3]"
      ]
     },
     "execution_count": 3,
     "metadata": {},
     "output_type": "execute_result"
    }
   ],
   "source": [
    "#answer-4\n",
    "def order():\n",
    "    a=input()\n",
    "    b=[]\n",
    "    for i in range(0,len(str(a))):\n",
    "        if a[i]==a[i].upper():\n",
    "            b.append(i)\n",
    "    return b\n",
    "order()                   \n",
    "                   \n",
    "                   "
   ]
  },
  {
   "cell_type": "code",
   "execution_count": 5,
   "id": "9129e36a",
   "metadata": {},
   "outputs": [
    {
     "name": "stdout",
     "output_type": "stream",
     "text": [
      "8\n"
     ]
    },
    {
     "data": {
      "text/plain": [
       "[2, 4, 6, 8]"
      ]
     },
     "execution_count": 5,
     "metadata": {},
     "output_type": "execute_result"
    }
   ],
   "source": [
    "#answer-5\n",
    "def even():\n",
    "    b=[]\n",
    "    a=int(input())\n",
    "    for i in range(1,a+1):\n",
    "        if i%2==0:\n",
    "            b.append(i)\n",
    "    return b   \n",
    "even()"
   ]
  }
 ],
 "metadata": {
  "kernelspec": {
   "display_name": "Python 3 (ipykernel)",
   "language": "python",
   "name": "python3"
  },
  "language_info": {
   "codemirror_mode": {
    "name": "ipython",
    "version": 3
   },
   "file_extension": ".py",
   "mimetype": "text/x-python",
   "name": "python",
   "nbconvert_exporter": "python",
   "pygments_lexer": "ipython3",
   "version": "3.9.7"
  }
 },
 "nbformat": 4,
 "nbformat_minor": 5
}
