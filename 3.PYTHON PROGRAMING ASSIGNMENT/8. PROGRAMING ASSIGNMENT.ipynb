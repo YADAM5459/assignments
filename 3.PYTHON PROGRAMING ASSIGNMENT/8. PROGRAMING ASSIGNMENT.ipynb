{
 "cells": [
  {
   "cell_type": "code",
   "execution_count": 4,
   "id": "dafd4e13",
   "metadata": {},
   "outputs": [
    {
     "name": "stdout",
     "output_type": "stream",
     "text": [
      "first matrix\n",
      "enter 0 0\n",
      "1\n",
      "enter 0 1\n",
      "5\n",
      "enter 0 2\n",
      "6\n",
      "enter 1 0\n",
      "1\n",
      "enter 1 1\n",
      "2\n",
      "enter 1 2\n",
      "3\n",
      "enter 2 0\n",
      "45\n",
      "enter 2 1\n",
      "6\n",
      "enter 2 2\n",
      "6\n",
      "first matrix\n",
      "enter 0 0\n",
      "6\n",
      "enter 0 1\n",
      "7\n",
      "enter 0 2\n",
      "8\n",
      "enter 1 0\n",
      "9\n",
      "enter 1 1\n",
      "4\n",
      "enter 1 2\n",
      "5\n",
      "enter 2 0\n",
      "6\n",
      "enter 2 1\n",
      "5\n",
      "enter 2 2\n",
      "4\n",
      "[[1, 5, 6], [1, 2, 3], [45, 6, 6]]\n",
      "[[6, 7, 8], [9, 4, 5], [6, 5, 4]]\n",
      "addition result\n",
      "[7, 12, 14]\n",
      "[10, 6, 8]\n",
      "[51, 11, 10]\n",
      "multiplication  result\n",
      "[87, 57, 57]\n",
      "[42, 30, 30]\n",
      "[360, 369, 414]\n",
      "transpose matrix\n",
      "[1, 4, 7]\n",
      "[4, 5, 8]\n",
      "[7, 8, 9]\n"
     ]
    }
   ],
   "source": [
    "c=[]\n",
    "for y in range(2): \n",
    "    a=[]\n",
    "    print(\"first matrix\")\n",
    "    for i in range(0,3):\n",
    "        b=[]\n",
    "        for j in range(0,3):\n",
    "            print(\"enter\",i,j)\n",
    "            b.append(int(input()))\n",
    "        a.append(b)    \n",
    "    c.append(a)\n",
    "print(c[0])\n",
    "print(c[1])\n",
    "#answer-1\n",
    " \n",
    "result = [[0,0,0],\n",
    "        [0,0,0],\n",
    "        [0,0,0]]\n",
    "\n",
    "for i in range(3):\n",
    "    for j in range(3):\n",
    "        result[i][j] = c[0][i][j] + c[1][i][j]\n",
    "print(\"addition result\") \n",
    "for r in result:\n",
    "    print(r)\n",
    "#answer-2 \n",
    "result = [[0,0,0],\n",
    "        [0,0,0],\n",
    "        [0,0,0]]\n",
    "\n",
    "for i in range(3):\n",
    "    for j in range(3):\n",
    "        result[i][j] = c[0][i][0] * c[1][0][j]+c[0][i][1] * c[1][1][j]+c[0][i][2] * c[1][2][j]\n",
    "print(\"multiplication  result\") \n",
    "for r in result:\n",
    "    print(r)\n",
    "#answer-3\n",
    "#considering one matrix \n",
    "b=[[1,2,3],[4,5,6],[7,8,9]]\n",
    "for i in range(3):\n",
    "    for j in range(3):\n",
    "        b[i][j]=b[j][i]\n",
    "print('transpose matrix')\n",
    "for r in b:\n",
    "    print(r)\n",
    "    \n"
   ]
  },
  {
   "cell_type": "code",
   "execution_count": 9,
   "id": "db820258",
   "metadata": {},
   "outputs": [
    {
     "name": "stdout",
     "output_type": "stream",
     "text": [
      "Education\n",
      "can\n",
      "change\n",
      "is\n",
      "most\n",
      "powerful\n",
      "the\n",
      "the\n",
      "to\n",
      "use\n",
      "weapon\n",
      "which\n",
      "world\n",
      "you\n"
     ]
    }
   ],
   "source": [
    "#answer-4\n",
    "a=\"Education is the most powerful weapon which you can use to change the world\"\n",
    "c=a.split()\n",
    "c.sort()\n",
    "for c in c:  \n",
    "   print(c)  \n"
   ]
  },
  {
   "cell_type": "code",
   "execution_count": 21,
   "id": "92380b59",
   "metadata": {},
   "outputs": [
    {
     "name": "stdout",
     "output_type": "stream",
     "text": [
      "Education is the most powerful   weapon which you can use   to change the world\n"
     ]
    }
   ],
   "source": [
    "#answer-5\n",
    "a=\"\"\"Education' is the most\" powerful \" ? /weapon which you can use >  {}{}to change the world\"\"\"\n",
    "punc = '''!()-[]{};:'\"\\,<>./?@#$%^&*_~'''\n",
    "b=[]\n",
    "for i in a:\n",
    "    if i not in punc:\n",
    "        b.append(i)\n",
    "print(\"\".join(b))    "
   ]
  }
 ],
 "metadata": {
  "kernelspec": {
   "display_name": "Python 3 (ipykernel)",
   "language": "python",
   "name": "python3"
  },
  "language_info": {
   "codemirror_mode": {
    "name": "ipython",
    "version": 3
   },
   "file_extension": ".py",
   "mimetype": "text/x-python",
   "name": "python",
   "nbconvert_exporter": "python",
   "pygments_lexer": "ipython3",
   "version": "3.9.7"
  }
 },
 "nbformat": 4,
 "nbformat_minor": 5
}
